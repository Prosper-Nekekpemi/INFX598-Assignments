{
 "cells": [
  {
   "cell_type": "markdown",
   "id": "ea2a18f7",
   "metadata": {},
   "source": [
    "# Classification"
   ]
  },
  {
   "cell_type": "markdown",
   "id": "01bb4c14",
   "metadata": {},
   "source": [
    "## MNIST "
   ]
  },
  {
   "cell_type": "code",
   "execution_count": 1,
   "id": "ddc5c0bb",
   "metadata": {},
   "outputs": [],
   "source": [
    "# Fetching MNIST dataset\n",
    "\n",
    "from sklearn.datasets import fetch_openml\n",
    "mnist = fetch_openml('mnist_784', version=1, as_frame=False)"
   ]
  },
  {
   "cell_type": "code",
   "execution_count": 2,
   "id": "6b1cee0e",
   "metadata": {},
   "outputs": [
    {
     "data": {
      "text/plain": [
       "dict_keys(['data', 'target', 'frame', 'categories', 'feature_names', 'target_names', 'DESCR', 'details', 'url'])"
      ]
     },
     "execution_count": 2,
     "metadata": {},
     "output_type": "execute_result"
    }
   ],
   "source": [
    "mnist.keys()"
   ]
  },
  {
   "cell_type": "code",
   "execution_count": 168,
   "id": "b2b986b7",
   "metadata": {},
   "outputs": [],
   "source": [
    "X, y = mnist[\"data\"], mnist[\"target\"]"
   ]
  },
  {
   "cell_type": "code",
   "execution_count": 169,
   "id": "1b8db415",
   "metadata": {},
   "outputs": [
    {
     "data": {
      "text/plain": [
       "(70000, 784)"
      ]
     },
     "execution_count": 169,
     "metadata": {},
     "output_type": "execute_result"
    }
   ],
   "source": [
    "X.shape"
   ]
  },
  {
   "cell_type": "code",
   "execution_count": 170,
   "id": "1a09b36f",
   "metadata": {},
   "outputs": [
    {
     "data": {
      "text/plain": [
       "(70000,)"
      ]
     },
     "execution_count": 170,
     "metadata": {},
     "output_type": "execute_result"
    }
   ],
   "source": [
    "y.shape"
   ]
  },
  {
   "cell_type": "code",
   "execution_count": 171,
   "id": "17cee1fa",
   "metadata": {
    "scrolled": true
   },
   "outputs": [
    {
     "data": {
      "image/png": "[encoded data removed]",
      "text/plain": [
       "<Figure size 432x288 with 1 Axes>"
      ]
     },
     "metadata": {
      "needs_background": "light"
     },
     "output_type": "display_data"
    }
   ],
   "source": [
    "#Matplotlib display\n",
    "\n",
    "import matplotlib as mpl\n",
    "import matplotlib.pyplot as plt\n",
    "\n",
    "some_digit = X[0]\n",
    "some_digit_image = some_digit.reshape(28, 28)\n",
    "\n",
    "plt.imshow(some_digit_image, cmap = mpl.cm.binary, interpolation=\"nearest\")\n",
    "plt.axis(\"off\")\n",
    "plt.show()"
   ]
  },
  {
   "cell_type": "code",
   "execution_count": 172,
   "id": "d7a218c4",
   "metadata": {},
   "outputs": [
    {
     "data": {
      "text/plain": [
       "'5'"
      ]
     },
     "execution_count": 172,
     "metadata": {},
     "output_type": "execute_result"
    }
   ],
   "source": [
    "y[0]"
   ]
  },
  {
   "cell_type": "code",
   "execution_count": 173,
   "id": "2c6ba015",
   "metadata": {},
   "outputs": [],
   "source": [
    "# casting y to integers instead of string\n",
    "import numpy as np\n",
    "y = y.astype(np.uint8)"
   ]
  },
  {
   "cell_type": "code",
   "execution_count": 174,
   "id": "975fd4f6",
   "metadata": {},
   "outputs": [],
   "source": [
    "# creating test set\n",
    "\n",
    "X_train, X_test, y_train, y_test = X[:60000], X[60000:], y[:60000], y[60000:]"
   ]
  },
  {
   "cell_type": "markdown",
   "id": "f02b16c7",
   "metadata": {},
   "source": [
    "## Training a Binary Classifier"
   ]
  },
  {
   "cell_type": "code",
   "execution_count": 175,
   "id": "4cadbf45",
   "metadata": {},
   "outputs": [],
   "source": [
    "# Creating the target vectors for this classification task\n",
    "\n",
    "y_train_5 = (y_train == 5) # True for all 5s, False for all other digits.\n",
    "y_test_5 = (y_test == 5)"
   ]
  },
  {
   "cell_type": "code",
   "execution_count": 105,
   "id": "4efc2460",
   "metadata": {},
   "outputs": [
    {
     "data": {
      "text/plain": [
       "SGDClassifier(random_state=42)"
      ]
     },
     "execution_count": 105,
     "metadata": {},
     "output_type": "execute_result"
    }
   ],
   "source": [
    "# Create an SGDClassifier and train it on the training set\n",
    "\n",
    "from sklearn.linear_model import SGDClassifier\n",
    "\n",
    "sgd_clf = SGDClassifier(random_state=42)\n",
    "sgd_clf.fit(X_train, y_train_5)\n"
   ]
  },
  {
   "cell_type": "code",
   "execution_count": 106,
   "id": "761aaf24",
   "metadata": {},
   "outputs": [
    {
     "data": {
      "text/plain": [
       "array([ True])"
      ]
     },
     "execution_count": 106,
     "metadata": {},
     "output_type": "execute_result"
    }
   ],
   "source": [
    "# detect images of the number 5\n",
    "\n",
    "sgd_clf.predict([some_digit])"
   ]
  },
  {
   "cell_type": "markdown",
   "id": "f5fe7940",
   "metadata": {},
   "source": [
    "## Performance Measures"
   ]
  },
  {
   "cell_type": "markdown",
   "id": "1fb4de7d",
   "metadata": {},
   "source": [
    "### Measuring Accuracy Using Cross-Validation"
   ]
  },
  {
   "cell_type": "markdown",
   "id": "216808ed",
   "metadata": {},
   "source": [
    "#### Implementing Cross-Validation"
   ]
  },
  {
   "cell_type": "code",
   "execution_count": 13,
   "id": "fbfed9b3",
   "metadata": {},
   "outputs": [
    {
     "name": "stdout",
     "output_type": "stream",
     "text": [
      "0.9669\n",
      "0.91625\n",
      "0.96785\n"
     ]
    }
   ],
   "source": [
    "from sklearn.model_selection import StratifiedKFold\n",
    "from sklearn.base import clone\n",
    "\n",
    "skfolds = StratifiedKFold(n_splits=3, random_state=42, shuffle=True)\n",
    "\n",
    "for train_index, test_index in skfolds.split(X_train, y_train_5):\n",
    "    clone_clf = clone(sgd_clf)\n",
    "    X_train_folds = X_train[train_index]\n",
    "    y_train_folds = y_train_5[train_index]\n",
    "    X_test_fold = X_train[test_index]\n",
    "    y_test_fold = y_train_5[test_index]\n",
    "    \n",
    "    clone_clf.fit(X_train_folds, y_train_folds)\n",
    "    y_pred = clone_clf.predict(X_test_fold)\n",
    "    n_correct = sum(y_pred == y_test_fold)\n",
    "    print(n_correct / len(y_pred)) # prints 0.9502, 0.96565 and 0.96495"
   ]
  },
  {
   "cell_type": "code",
   "execution_count": 14,
   "id": "c2874282",
   "metadata": {},
   "outputs": [
    {
     "data": {
      "text/plain": [
       "array([0.95035, 0.96035, 0.9604 ])"
      ]
     },
     "execution_count": 14,
     "metadata": {},
     "output_type": "execute_result"
    }
   ],
   "source": [
    "# Let's use the cross_val_score() to evaluate \n",
    "\n",
    "from sklearn.model_selection import cross_val_score\n",
    "cross_val_score(sgd_clf, X_train, y_train_5, cv=3, scoring=\"accuracy\")"
   ]
  },
  {
   "cell_type": "code",
   "execution_count": 15,
   "id": "1a90c3da",
   "metadata": {},
   "outputs": [],
   "source": [
    "# Classifier that just classifies every single image in the not-5 class\n",
    "\n",
    "from sklearn.base import BaseEstimator\n",
    "\n",
    "class Never5Classifier(BaseEstimator):\n",
    "    def fit(self, X, y=None):\n",
    "        pass\n",
    "    def predict(self, X):\n",
    "        return np.zeros((len(X), 1), dtype=bool)"
   ]
  },
  {
   "cell_type": "code",
   "execution_count": 16,
   "id": "494b302d",
   "metadata": {},
   "outputs": [
    {
     "data": {
      "text/plain": [
       "array([0.91125, 0.90855, 0.90915])"
      ]
     },
     "execution_count": 16,
     "metadata": {},
     "output_type": "execute_result"
    }
   ],
   "source": [
    "never_5_clf = Never5Classifier()\n",
    "cross_val_score(never_5_clf, X_train, y_train_5, cv=3, scoring=\"accuracy\")\n"
   ]
  },
  {
   "cell_type": "markdown",
   "id": "cd9d502c",
   "metadata": {},
   "source": [
    "## Confusion Matrix"
   ]
  },
  {
   "cell_type": "code",
   "execution_count": 17,
   "id": "af7a83f5",
   "metadata": {},
   "outputs": [],
   "source": [
    "from sklearn.model_selection import cross_val_predict\n",
    "\n",
    "y_train_pred = cross_val_predict(sgd_clf, X_train, y_train_5, cv=3)"
   ]
  },
  {
   "cell_type": "code",
   "execution_count": 18,
   "id": "89dd2b5c",
   "metadata": {},
   "outputs": [
    {
     "data": {
      "text/plain": [
       "array([[53892,   687],\n",
       "       [ 1891,  3530]], dtype=int64)"
      ]
     },
     "execution_count": 18,
     "metadata": {},
     "output_type": "execute_result"
    }
   ],
   "source": [
    "# Using Confusion Matrix\n",
    "\n",
    "from sklearn.metrics import confusion_matrix\n",
    "confusion_matrix(y_train_5, y_train_pred)\n",
    "    "
   ]
  },
  {
   "cell_type": "code",
   "execution_count": 19,
   "id": "147492d4",
   "metadata": {},
   "outputs": [
    {
     "data": {
      "text/plain": [
       "array([[54579,     0],\n",
       "       [    0,  5421]], dtype=int64)"
      ]
     },
     "execution_count": 19,
     "metadata": {},
     "output_type": "execute_result"
    }
   ],
   "source": [
    "# A perfect classifier\n",
    "\n",
    "y_train_perfect_predictions = y_train_5 # pretend we reached perfection\n",
    "confusion_matrix(y_train_5, y_train_perfect_predictions)\n"
   ]
  },
  {
   "cell_type": "markdown",
   "id": "f86554c9",
   "metadata": {},
   "source": [
    "## Precision and Recall"
   ]
  },
  {
   "cell_type": "code",
   "execution_count": 20,
   "id": "a672b1c1",
   "metadata": {},
   "outputs": [
    {
     "data": {
      "text/plain": [
       "0.8370879772350012"
      ]
     },
     "execution_count": 20,
     "metadata": {},
     "output_type": "execute_result"
    }
   ],
   "source": [
    "from sklearn.metrics import precision_score, recall_score\n",
    "precision_score(y_train_5, y_train_pred)"
   ]
  },
  {
   "cell_type": "code",
   "execution_count": 21,
   "id": "4b0bfa92",
   "metadata": {},
   "outputs": [
    {
     "data": {
      "text/plain": [
       "0.6511713705958311"
      ]
     },
     "execution_count": 21,
     "metadata": {},
     "output_type": "execute_result"
    }
   ],
   "source": [
    "recall_score(y_train_5, y_train_pred)"
   ]
  },
  {
   "cell_type": "code",
   "execution_count": 22,
   "id": "5a6cc294",
   "metadata": {},
   "outputs": [
    {
     "data": {
      "text/plain": [
       "0.7325171197343846"
      ]
     },
     "execution_count": 22,
     "metadata": {},
     "output_type": "execute_result"
    }
   ],
   "source": [
    "# F1 score\n",
    "\n",
    "from sklearn.metrics import f1_score\n",
    "f1_score(y_train_5, y_train_pred)"
   ]
  },
  {
   "cell_type": "markdown",
   "id": "6f1b63f0",
   "metadata": {},
   "source": [
    "## Precision/Recall Tradeoff"
   ]
  },
  {
   "cell_type": "code",
   "execution_count": 23,
   "id": "2069f94f",
   "metadata": {},
   "outputs": [
    {
     "data": {
      "text/plain": [
       "array([2164.22030239])"
      ]
     },
     "execution_count": 23,
     "metadata": {},
     "output_type": "execute_result"
    }
   ],
   "source": [
    "y_scores = sgd_clf.decision_function([some_digit])\n",
    "y_scores"
   ]
  },
  {
   "cell_type": "code",
   "execution_count": 24,
   "id": "b210a396",
   "metadata": {},
   "outputs": [
    {
     "data": {
      "text/plain": [
       "array([ True])"
      ]
     },
     "execution_count": 24,
     "metadata": {},
     "output_type": "execute_result"
    }
   ],
   "source": [
    "threshold = 0\n",
    "y_some_digit_pred = (y_scores > threshold)\n",
    "y_some_digit_pred"
   ]
  },
  {
   "cell_type": "code",
   "execution_count": 25,
   "id": "55fb5310",
   "metadata": {},
   "outputs": [
    {
     "data": {
      "text/plain": [
       "array([False])"
      ]
     },
     "execution_count": 25,
     "metadata": {},
     "output_type": "execute_result"
    }
   ],
   "source": [
    "#Let's raise the threshold\n",
    "\n",
    "threshold = 8000\n",
    "y_some_digit_pred = (y_scores > threshold)\n",
    "y_some_digit_pred"
   ]
  },
  {
   "cell_type": "code",
   "execution_count": 26,
   "id": "cbd06e6e",
   "metadata": {},
   "outputs": [],
   "source": [
    "# Return decision scores instead of predictions\n",
    "\n",
    "y_scores = cross_val_predict(sgd_clf, X_train, y_train_5, cv=3,\n",
    "method=\"decision_function\")"
   ]
  },
  {
   "cell_type": "code",
   "execution_count": 27,
   "id": "b2b1a0a2",
   "metadata": {},
   "outputs": [],
   "source": [
    "# computing prcision and recall\n",
    "\n",
    "from sklearn.metrics import precision_recall_curve\n",
    "\n",
    "\n",
    "precisions, recalls, thresholds = precision_recall_curve(y_train_5, y_scores)"
   ]
  },
  {
   "cell_type": "code",
   "execution_count": 28,
   "id": "92d71752",
   "metadata": {},
   "outputs": [
    {
     "data": {
      "image/png": "[encoded data removed]",
      "text/plain": [
       "<Figure size 576x288 with 1 Axes>"
      ]
     },
     "metadata": {
      "needs_background": "light"
     },
     "output_type": "display_data"
    }
   ],
   "source": [
    "# Plot precision and recall as functions of the threshold value using matplotlib\n",
    "\n",
    "def plot_precision_recall_vs_threshold(precisions, recalls, thresholds):\n",
    "    plt.plot(thresholds, precisions[:-1], \"b--\", label=\"Precision\")\n",
    "    plt.plot(thresholds, recalls[:-1], \"g-\", label=\"Recall\")\n",
    "    plt.legend(loc=\"center right\", fontsize=16)\n",
    "    plt.xlabel(\"Threshold\", fontsize=16)\n",
    "    plt.grid(True)\n",
    "    plt.axis([-50000, 50000, 0, 1])\n",
    "    \n",
    "recall_90_precision = recalls[np.argmax(precisions >= 0.90)]\n",
    "threshold_90_precision = thresholds[np.argmax(precisions >= 0.90)]\n",
    "\n",
    "plt.figure(figsize=(8, 4)) \n",
    "plot_precision_recall_vs_threshold(precisions, recalls, thresholds)\n",
    "plt.plot([threshold_90_precision, threshold_90_precision], [0., 0.9], \"r:\")\n",
    "plt.plot([-50000, threshold_90_precision], [0.9, 0.9], \"r:\")\n",
    "plt.plot([-50000, threshold_90_precision], [recall_90_precision, recall_90_precision], \"r:\")\n",
    "plt.plot([threshold_90_precision], [0.9], \"ro\") \n",
    "plt.plot([threshold_90_precision], [recall_90_precision], \"ro\")\n",
    "plt.show()"
   ]
  },
  {
   "cell_type": "code",
   "execution_count": 29,
   "id": "0b76f29d",
   "metadata": {},
   "outputs": [
    {
     "data": {
      "image/png": "[encoded data removed]",
      "text/plain": [
       "<Figure size 576x432 with 1 Axes>"
      ]
     },
     "metadata": {
      "needs_background": "light"
     },
     "output_type": "display_data"
    }
   ],
   "source": [
    "def plot_precision_vs_recall(precisions, recalls):\n",
    "    plt.plot(recalls, precisions, \"b-\", linewidth=2)\n",
    "    plt.xlabel(\"Recall\", fontsize=16)\n",
    "    plt.ylabel(\"Precision\", fontsize=16)\n",
    "    plt.axis([0, 1, 0, 1])\n",
    "    plt.grid(True)\n",
    "\n",
    "plt.figure(figsize=(8, 6))\n",
    "plot_precision_vs_recall(precisions, recalls)\n",
    "plt.plot([recall_90_precision, recall_90_precision], [0., 0.9], \"r:\")\n",
    "plt.plot([0.0, recall_90_precision], [0.9, 0.9], \"r:\")\n",
    "plt.plot([recall_90_precision], [0.9], \"ro\")\n",
    "plt.show()"
   ]
  },
  {
   "cell_type": "code",
   "execution_count": 30,
   "id": "3576d73f",
   "metadata": {},
   "outputs": [],
   "source": [
    "threshold_90_precision = thresholds[np.argmax(precisions >= 0.90)]"
   ]
  },
  {
   "cell_type": "code",
   "execution_count": 31,
   "id": "1c0696d4",
   "metadata": {},
   "outputs": [],
   "source": [
    "# To make predictions\n",
    "\n",
    "y_train_pred_90 = (y_scores >= threshold_90_precision)"
   ]
  },
  {
   "cell_type": "code",
   "execution_count": 32,
   "id": "dde5e1f2",
   "metadata": {},
   "outputs": [
    {
     "data": {
      "text/plain": [
       "0.9000345901072293"
      ]
     },
     "execution_count": 32,
     "metadata": {},
     "output_type": "execute_result"
    }
   ],
   "source": [
    "# To check predictions\n",
    "\n",
    "precision_score(y_train_5, y_train_pred_90)"
   ]
  },
  {
   "cell_type": "code",
   "execution_count": 33,
   "id": "0066368f",
   "metadata": {},
   "outputs": [
    {
     "data": {
      "text/plain": [
       "0.4799852425751706"
      ]
     },
     "execution_count": 33,
     "metadata": {},
     "output_type": "execute_result"
    }
   ],
   "source": [
    "recall_score(y_train_5, y_train_pred_90)"
   ]
  },
  {
   "cell_type": "markdown",
   "id": "aa753e23",
   "metadata": {},
   "source": [
    "## The ROC Curve"
   ]
  },
  {
   "cell_type": "code",
   "execution_count": 34,
   "id": "aed00875",
   "metadata": {},
   "outputs": [],
   "source": [
    "# Compute the TPR and FPR for various threshold values\n",
    "\n",
    "from sklearn.metrics import roc_curve\n",
    "\n",
    "fpr, tpr, thresholds = roc_curve(y_train_5, y_scores)"
   ]
  },
  {
   "cell_type": "code",
   "execution_count": 35,
   "id": "c0229db0",
   "metadata": {},
   "outputs": [
    {
     "data": {
      "image/png": "[encoded data removed]",
      "text/plain": [
       "<Figure size 576x432 with 1 Axes>"
      ]
     },
     "metadata": {
      "needs_background": "light"
     },
     "output_type": "display_data"
    }
   ],
   "source": [
    "# PLot the FPR against the TPR using Matplotlib\n",
    "\n",
    "def plot_roc_curve(fpr, tpr, label=None):\n",
    "    plt.plot(fpr, tpr, linewidth=2, label=label)\n",
    "    plt.plot([0, 1], [0, 1], 'k--') # dashed diagonal\n",
    "    plt.axis([0, 1, 0, 1])\n",
    "    plt.xlabel('False Positive Rate (Fall-Out)', fontsize=16)\n",
    "    plt.ylabel('True Positive Rate (Recall)', fontsize=16)\n",
    "    plt.grid(True)\n",
    "    \n",
    "plt.figure(figsize=(8, 6))\n",
    "plot_roc_curve(fpr, tpr)\n",
    "fpr_90 = fpr[np.argmax(tpr >= recall_90_precision)]\n",
    "plt.plot([fpr_90, fpr_90], [0., recall_90_precision], \"r:\")\n",
    "plt.plot([0.0, fpr_90], [recall_90_precision, recall_90_precision], \"r:\")\n",
    "plt.plot([fpr_90], [recall_90_precision], \"ro\")\n",
    "plt.show()         "
   ]
  },
  {
   "cell_type": "code",
   "execution_count": 36,
   "id": "f5351bbd",
   "metadata": {},
   "outputs": [
    {
     "data": {
      "text/plain": [
       "0.9604938554008616"
      ]
     },
     "execution_count": 36,
     "metadata": {},
     "output_type": "execute_result"
    }
   ],
   "source": [
    "# Calculate the ROC AUC\n",
    "\n",
    "from sklearn.metrics import roc_auc_score\n",
    "roc_auc_score(y_train_5, y_scores)"
   ]
  },
  {
   "cell_type": "code",
   "execution_count": 37,
   "id": "b2cf9f51",
   "metadata": {},
   "outputs": [],
   "source": [
    "# Train a RandomForestClassifier\n",
    "\n",
    "from sklearn.ensemble import RandomForestClassifier\n",
    "\n",
    "forest_clf = RandomForestClassifier(random_state=42)\n",
    "y_probas_forest = cross_val_predict(forest_clf, X_train, y_train_5, cv=3,\n",
    "method=\"predict_proba\")"
   ]
  },
  {
   "cell_type": "code",
   "execution_count": 38,
   "id": "52639c7e",
   "metadata": {},
   "outputs": [],
   "source": [
    "# positive class probability\n",
    "\n",
    "y_scores_forest = y_probas_forest[:, 1] # score = proba of positive class\n",
    "fpr_forest, tpr_forest, thresholds_forest = roc_curve(y_train_5,y_scores_forest)"
   ]
  },
  {
   "cell_type": "code",
   "execution_count": 39,
   "id": "a2578053",
   "metadata": {},
   "outputs": [
    {
     "data": {
      "image/png": "[encoded data removed]",
      "text/plain": [
       "<Figure size 432x288 with 1 Axes>"
      ]
     },
     "metadata": {
      "needs_background": "light"
     },
     "output_type": "display_data"
    }
   ],
   "source": [
    "# Plot ROC curve\n",
    "\n",
    "plt.plot(fpr, tpr, \"b:\", label=\"SGD\")\n",
    "plot_roc_curve(fpr_forest, tpr_forest, \"Random Forest\")\n",
    "plt.legend(loc=\"lower right\")\n",
    "plt.show()"
   ]
  },
  {
   "cell_type": "code",
   "execution_count": 40,
   "id": "b454e314",
   "metadata": {},
   "outputs": [
    {
     "data": {
      "text/plain": [
       "0.9983436731328145"
      ]
     },
     "execution_count": 40,
     "metadata": {},
     "output_type": "execute_result"
    }
   ],
   "source": [
    "# ROC AUC score\n",
    "\n",
    "roc_auc_score(y_train_5, y_scores_forest)"
   ]
  },
  {
   "cell_type": "code",
   "execution_count": 41,
   "id": "1758875d",
   "metadata": {},
   "outputs": [
    {
     "data": {
      "text/plain": [
       "0.9905083315756169"
      ]
     },
     "execution_count": 41,
     "metadata": {},
     "output_type": "execute_result"
    }
   ],
   "source": [
    "y_train_pred_forest = cross_val_predict(forest_clf, X_train, y_train_5, cv=3) \n",
    "precision_score(y_train_5, y_train_pred_forest)"
   ]
  },
  {
   "cell_type": "code",
   "execution_count": 42,
   "id": "3b436381",
   "metadata": {},
   "outputs": [
    {
     "data": {
      "text/plain": [
       "0.8662608374838591"
      ]
     },
     "execution_count": 42,
     "metadata": {},
     "output_type": "execute_result"
    }
   ],
   "source": [
    "recall_score(y_train_5, y_train_pred_forest)"
   ]
  },
  {
   "cell_type": "markdown",
   "id": "11213bb7",
   "metadata": {},
   "source": [
    "## Multiclass Classification"
   ]
  },
  {
   "cell_type": "code",
   "execution_count": 43,
   "id": "cb728c6c",
   "metadata": {},
   "outputs": [
    {
     "data": {
      "text/plain": [
       "array([3], dtype=uint8)"
      ]
     },
     "execution_count": 43,
     "metadata": {},
     "output_type": "execute_result"
    }
   ],
   "source": [
    "sgd_clf.fit(X_train, y_train) # y_train, not y_train_5\n",
    "sgd_clf.predict([some_digit])"
   ]
  },
  {
   "cell_type": "code",
   "execution_count": 44,
   "id": "4b097639",
   "metadata": {},
   "outputs": [
    {
     "data": {
      "text/plain": [
       "array([[-31893.03095419, -34419.69069632,  -9530.63950739,\n",
       "          1823.73154031, -22320.14822878,  -1385.80478895,\n",
       "        -26188.91070951, -16147.51323997,  -4604.35491274,\n",
       "        -12050.767298  ]])"
      ]
     },
     "execution_count": 44,
     "metadata": {},
     "output_type": "execute_result"
    }
   ],
   "source": [
    "some_digit_scores = sgd_clf.decision_function([some_digit])\n",
    "some_digit_scores"
   ]
  },
  {
   "cell_type": "code",
   "execution_count": 45,
   "id": "037fd110",
   "metadata": {},
   "outputs": [
    {
     "data": {
      "text/plain": [
       "3"
      ]
     },
     "execution_count": 45,
     "metadata": {},
     "output_type": "execute_result"
    }
   ],
   "source": [
    "np.argmax(some_digit_scores)"
   ]
  },
  {
   "cell_type": "code",
   "execution_count": 46,
   "id": "a43487ab",
   "metadata": {},
   "outputs": [
    {
     "data": {
      "text/plain": [
       "array([0, 1, 2, 3, 4, 5, 6, 7, 8, 9], dtype=uint8)"
      ]
     },
     "execution_count": 46,
     "metadata": {},
     "output_type": "execute_result"
    }
   ],
   "source": [
    "sgd_clf.classes_"
   ]
  },
  {
   "cell_type": "code",
   "execution_count": 47,
   "id": "1d111f1d",
   "metadata": {},
   "outputs": [
    {
     "data": {
      "text/plain": [
       "5"
      ]
     },
     "execution_count": 47,
     "metadata": {},
     "output_type": "execute_result"
    }
   ],
   "source": [
    "sgd_clf.classes_[5]"
   ]
  },
  {
   "cell_type": "code",
   "execution_count": 48,
   "id": "15d12165",
   "metadata": {},
   "outputs": [
    {
     "data": {
      "text/plain": [
       "array([5], dtype=uint8)"
      ]
     },
     "execution_count": 48,
     "metadata": {},
     "output_type": "execute_result"
    }
   ],
   "source": [
    "# Multiclass classifier using the OvO strategy\n",
    "\n",
    "from sklearn.multiclass import OneVsOneClassifier\n",
    "ovo_clf = OneVsOneClassifier(SGDClassifier(random_state=42))\n",
    "ovo_clf.fit(X_train, y_train)\n",
    "ovo_clf.predict([some_digit])"
   ]
  },
  {
   "cell_type": "code",
   "execution_count": 49,
   "id": "1dd4fa73",
   "metadata": {},
   "outputs": [
    {
     "data": {
      "text/plain": [
       "45"
      ]
     },
     "execution_count": 49,
     "metadata": {},
     "output_type": "execute_result"
    }
   ],
   "source": [
    "len(ovo_clf.estimators_)"
   ]
  },
  {
   "cell_type": "code",
   "execution_count": 50,
   "id": "23272e3d",
   "metadata": {},
   "outputs": [
    {
     "data": {
      "text/plain": [
       "array([5], dtype=uint8)"
      ]
     },
     "execution_count": 50,
     "metadata": {},
     "output_type": "execute_result"
    }
   ],
   "source": [
    "# Training a RandomForestClassifier is just as easy\n",
    "\n",
    "forest_clf.fit(X_train, y_train)\n",
    "forest_clf.predict([some_digit])\n"
   ]
  },
  {
   "cell_type": "code",
   "execution_count": 51,
   "id": "ef56e47a",
   "metadata": {},
   "outputs": [
    {
     "data": {
      "text/plain": [
       "array([[0.  , 0.  , 0.01, 0.08, 0.  , 0.9 , 0.  , 0.  , 0.  , 0.01]])"
      ]
     },
     "execution_count": 51,
     "metadata": {},
     "output_type": "execute_result"
    }
   ],
   "source": [
    "forest_clf.predict_proba([some_digit])"
   ]
  },
  {
   "cell_type": "code",
   "execution_count": 52,
   "id": "3429bc69",
   "metadata": {},
   "outputs": [
    {
     "data": {
      "text/plain": [
       "array([0.87365, 0.85835, 0.8689 ])"
      ]
     },
     "execution_count": 52,
     "metadata": {},
     "output_type": "execute_result"
    }
   ],
   "source": [
    "# Evaluate the SGDClassifier accuracy\n",
    "\n",
    "cross_val_score(sgd_clf, X_train, y_train, cv=3, scoring=\"accuracy\")"
   ]
  },
  {
   "cell_type": "code",
   "execution_count": 53,
   "id": "eaceaaf6",
   "metadata": {},
   "outputs": [
    {
     "data": {
      "text/plain": [
       "array([0.8983, 0.891 , 0.9018])"
      ]
     },
     "execution_count": 53,
     "metadata": {},
     "output_type": "execute_result"
    }
   ],
   "source": [
    "#Scaling\n",
    "\n",
    "from sklearn.preprocessing import StandardScaler\n",
    "scaler = StandardScaler()\n",
    "X_train_scaled = scaler.fit_transform(X_train.astype(np.float64))\n",
    "cross_val_score(sgd_clf, X_train_scaled, y_train, cv=3, scoring=\"accuracy\")"
   ]
  },
  {
   "cell_type": "markdown",
   "id": "5610d91f",
   "metadata": {},
   "source": [
    "## Error Analysis"
   ]
  },
  {
   "cell_type": "code",
   "execution_count": 54,
   "id": "7cfbd0fb",
   "metadata": {},
   "outputs": [
    {
     "data": {
      "text/plain": [
       "array([[5577,    0,   22,    5,    8,   43,   36,    6,  225,    1],\n",
       "       [   0, 6400,   37,   24,    4,   44,    4,    7,  212,   10],\n",
       "       [  27,   27, 5220,   92,   73,   27,   67,   36,  378,   11],\n",
       "       [  22,   17,  117, 5227,    2,  203,   27,   40,  403,   73],\n",
       "       [  12,   14,   41,    9, 5182,   12,   34,   27,  347,  164],\n",
       "       [  27,   15,   30,  168,   53, 4444,   75,   14,  535,   60],\n",
       "       [  30,   15,   42,    3,   44,   97, 5552,    3,  131,    1],\n",
       "       [  21,   10,   51,   30,   49,   12,    3, 5684,  195,  210],\n",
       "       [  17,   63,   48,   86,    3,  126,   25,   10, 5429,   44],\n",
       "       [  25,   18,   30,   64,  118,   36,    1,  179,  371, 5107]],\n",
       "      dtype=int64)"
      ]
     },
     "execution_count": 54,
     "metadata": {},
     "output_type": "execute_result"
    }
   ],
   "source": [
    "y_train_pred = cross_val_predict(sgd_clf, X_train_scaled, y_train, cv=3)\n",
    "conf_mx = confusion_matrix(y_train, y_train_pred)\n",
    "conf_mx"
   ]
  },
  {
   "cell_type": "code",
   "execution_count": 55,
   "id": "c1eff200",
   "metadata": {},
   "outputs": [
    {
     "data": {
      "image/png": "[encoded data removed]",
      "text/plain": [
       "<Figure size 288x288 with 1 Axes>"
      ]
     },
     "metadata": {
      "needs_background": "light"
     },
     "output_type": "display_data"
    }
   ],
   "source": [
    "# An image represenatation\n",
    "\n",
    "plt.matshow(conf_mx, cmap=plt.cm.gray)\n",
    "plt.show()"
   ]
  },
  {
   "cell_type": "code",
   "execution_count": 56,
   "id": "1328566f",
   "metadata": {},
   "outputs": [],
   "source": [
    "# comapre error rates instead of absolute number of errors\n",
    "\n",
    "row_sums = conf_mx.sum(axis=1, keepdims=True)\n",
    "norm_conf_mx = conf_mx / row_sums"
   ]
  },
  {
   "cell_type": "code",
   "execution_count": null,
   "id": "c02bc0ad",
   "metadata": {},
   "outputs": [],
   "source": []
  },
  {
   "cell_type": "code",
   "execution_count": 57,
   "id": "6aded371",
   "metadata": {},
   "outputs": [
    {
     "data": {
      "image/png": "[encoded data removed]",
      "text/plain": [
       "<Figure size 288x288 with 1 Axes>"
      ]
     },
     "metadata": {
      "needs_background": "light"
     },
     "output_type": "display_data"
    }
   ],
   "source": [
    "# Fill the diagonal with zeros to keep only the errors\n",
    "\n",
    "np.fill_diagonal(norm_conf_mx, 0)\n",
    "plt.matshow(norm_conf_mx, cmap=plt.cm.gray)\n",
    "plt.show()"
   ]
  },
  {
   "cell_type": "code",
   "execution_count": 58,
   "id": "621dcc92",
   "metadata": {},
   "outputs": [],
   "source": [
    "def plot_digits(instances, images_per_row=10, **options):\n",
    "    size = 28\n",
    "    images_per_row = min(len(instances), images_per_row)\n",
    "    images = [instance.reshape(size,size) for instance in instances]\n",
    "    n_rows = (len(instances) - 1) // images_per_row + 1\n",
    "    row_images = []\n",
    "    n_empty = n_rows * images_per_row - len(instances)\n",
    "    images.append(np.zeros((size, size * n_empty)))\n",
    "    for row in range(n_rows):\n",
    "        rimages = images[row * images_per_row : (row + 1) * images_per_row]\n",
    "        row_images.append(np.concatenate(rimages, axis=1))\n",
    "    image = np.concatenate(row_images, axis=0)\n",
    "    plt.imshow(image, cmap = matplotlib.cm.binary, **options)\n",
    "    plt.axis(\"off\")"
   ]
  },
  {
   "cell_type": "markdown",
   "id": "f9663077",
   "metadata": {},
   "source": [
    "## Multilabel Classification"
   ]
  },
  {
   "cell_type": "code",
   "execution_count": 59,
   "id": "819c4052",
   "metadata": {},
   "outputs": [
    {
     "data": {
      "text/plain": [
       "KNeighborsClassifier()"
      ]
     },
     "execution_count": 59,
     "metadata": {},
     "output_type": "execute_result"
    }
   ],
   "source": [
    "from sklearn.neighbors import KNeighborsClassifier\n",
    "\n",
    "y_train_large = (y_train >= 7)\n",
    "y_train_odd = (y_train % 2 == 1)\n",
    "y_multilabel = np.c_[y_train_large, y_train_odd]\n",
    "\n",
    "knn_clf = KNeighborsClassifier()\n",
    "knn_clf.fit(X_train, y_multilabel)"
   ]
  },
  {
   "cell_type": "code",
   "execution_count": 60,
   "id": "41322325",
   "metadata": {},
   "outputs": [
    {
     "data": {
      "text/plain": [
       "array([[False,  True]])"
      ]
     },
     "execution_count": 60,
     "metadata": {},
     "output_type": "execute_result"
    }
   ],
   "source": [
    "# make a prediction\n",
    "\n",
    "knn_clf.predict([some_digit])"
   ]
  },
  {
   "cell_type": "code",
   "execution_count": 61,
   "id": "89bf7115",
   "metadata": {},
   "outputs": [
    {
     "data": {
      "text/plain": [
       "0.976410265560605"
      ]
     },
     "execution_count": 61,
     "metadata": {},
     "output_type": "execute_result"
    }
   ],
   "source": [
    "#Average F1 score\n",
    "\n",
    "y_train_knn_pred = cross_val_predict(knn_clf, X_train, y_multilabel, cv=3)\n",
    "f1_score(y_multilabel, y_train_knn_pred, average=\"macro\")"
   ]
  },
  {
   "cell_type": "markdown",
   "id": "314ed193",
   "metadata": {},
   "source": [
    "## Exercise 1"
   ]
  },
  {
   "cell_type": "markdown",
   "id": "cd6a8c29",
   "metadata": {},
   "source": [
    "### MNIST classifier with over 97% accuracy"
   ]
  },
  {
   "cell_type": "code",
   "execution_count": 177,
   "id": "32b08b43",
   "metadata": {
    "scrolled": true
   },
   "outputs": [
    {
     "name": "stdout",
     "output_type": "stream",
     "text": [
      "Fitting 5 folds for each of 4 candidates, totalling 20 fits\n",
      "[CV 1/5] END .................n_neighbors=3, weights=uniform; total time=  36.5s\n",
      "[CV 2/5] END .................n_neighbors=3, weights=uniform; total time=  29.1s\n",
      "[CV 3/5] END .................n_neighbors=3, weights=uniform; total time=  27.6s\n",
      "[CV 4/5] END .................n_neighbors=3, weights=uniform; total time=  26.9s\n",
      "[CV 5/5] END .................n_neighbors=3, weights=uniform; total time=  27.5s\n",
      "[CV 1/5] END ................n_neighbors=3, weights=distance; total time=  28.2s\n",
      "[CV 2/5] END ................n_neighbors=3, weights=distance; total time=  28.0s\n",
      "[CV 3/5] END ................n_neighbors=3, weights=distance; total time=  27.0s\n",
      "[CV 4/5] END ................n_neighbors=3, weights=distance; total time=  28.8s\n",
      "[CV 5/5] END ................n_neighbors=3, weights=distance; total time=  29.6s\n",
      "[CV 1/5] END .................n_neighbors=4, weights=uniform; total time=  32.5s\n",
      "[CV 2/5] END .................n_neighbors=4, weights=uniform; total time=  31.3s\n",
      "[CV 3/5] END .................n_neighbors=4, weights=uniform; total time=  31.0s\n",
      "[CV 4/5] END .................n_neighbors=4, weights=uniform; total time=  30.8s\n",
      "[CV 5/5] END .................n_neighbors=4, weights=uniform; total time=  29.7s\n",
      "[CV 1/5] END ................n_neighbors=4, weights=distance; total time=  30.3s\n",
      "[CV 2/5] END ................n_neighbors=4, weights=distance; total time=  30.9s\n",
      "[CV 3/5] END ................n_neighbors=4, weights=distance; total time=  30.4s\n",
      "[CV 4/5] END ................n_neighbors=4, weights=distance; total time=  30.9s\n",
      "[CV 5/5] END ................n_neighbors=4, weights=distance; total time=  31.0s\n"
     ]
    },
    {
     "data": {
      "text/plain": [
       "GridSearchCV(cv=5, estimator=KNeighborsClassifier(),\n",
       "             param_grid=[{'n_neighbors': [3, 4],\n",
       "                          'weights': ['uniform', 'distance']}],\n",
       "             verbose=3)"
      ]
     },
     "execution_count": 177,
     "metadata": {},
     "output_type": "execute_result"
    }
   ],
   "source": [
    "from sklearn.model_selection import GridSearchCV\n",
    "\n",
    "param_grid = [{'weights': [\"uniform\", \"distance\"], 'n_neighbors': [3, 4]}]\n",
    "\n",
    "knn_clf = KNeighborsClassifier()\n",
    "grid_search = GridSearchCV(knn_clf, param_grid, cv=5, verbose=3)\n",
    "grid_search.fit(X_train, y_train)"
   ]
  },
  {
   "cell_type": "code",
   "execution_count": 178,
   "id": "b87ef582",
   "metadata": {},
   "outputs": [
    {
     "data": {
      "text/plain": [
       "0.9714"
      ]
     },
     "execution_count": 178,
     "metadata": {},
     "output_type": "execute_result"
    }
   ],
   "source": [
    "from sklearn.metrics import accuracy_score\n",
    "\n",
    "y_pred = grid_search.predict(X_test)\n",
    "accuracy_score(y_test, y_pred)"
   ]
  },
  {
   "cell_type": "markdown",
   "id": "23e5f7c2",
   "metadata": {},
   "source": [
    "## Exercise 2"
   ]
  },
  {
   "cell_type": "markdown",
   "id": "381b7903",
   "metadata": {},
   "source": [
    "### Data Augmentation or Training set expansion"
   ]
  },
  {
   "cell_type": "code",
   "execution_count": 80,
   "id": "36e5f79d",
   "metadata": {},
   "outputs": [],
   "source": [
    "from scipy.ndimage.interpolation import shift"
   ]
  },
  {
   "cell_type": "code",
   "execution_count": 97,
   "id": "5152f485",
   "metadata": {},
   "outputs": [],
   "source": [
    "def shift_image(image, dx, dy):\n",
    "    image = image.reshape((28, 28))\n",
    "    shifted_image = shift(image, [dy, dx], cval=0, mode=\"constant\")\n",
    "    return shifted_image.reshape([-1])"
   ]
  },
  {
   "cell_type": "code",
   "execution_count": 107,
   "id": "20cadf06",
   "metadata": {},
   "outputs": [
    {
     "data": {
      "image/png": "[encoded data removed]",
      "text/plain": [
       "<Figure size 864x216 with 3 Axes>"
      ]
     },
     "metadata": {
      "needs_background": "light"
     },
     "output_type": "display_data"
    }
   ],
   "source": [
    "image = X_train[1000]\n",
    "shifted_image_down = shift_image(image, 0, 5)\n",
    "shifted_image_left = shift_image(image, -5, 0)\n",
    "\n",
    "plt.figure(figsize=(12,3))\n",
    "plt.subplot(131)\n",
    "plt.title(\"Original\", fontsize=14)\n",
    "plt.imshow(image.reshape(28, 28), interpolation=\"nearest\", cmap=\"Greys\")\n",
    "plt.subplot(132)\n",
    "plt.title(\"Shifted down\", fontsize=14)\n",
    "plt.imshow(shifted_image_down.reshape(28, 28), interpolation=\"nearest\", cmap=\"Greys\")\n",
    "plt.subplot(133)\n",
    "plt.title(\"Shifted left\", fontsize=14)\n",
    "plt.imshow(shifted_image_left.reshape(28, 28), interpolation=\"nearest\", cmap=\"Greys\")\n",
    "plt.show()"
   ]
  },
  {
   "cell_type": "code",
   "execution_count": 108,
   "id": "6ed4fbe1",
   "metadata": {
    "scrolled": true
   },
   "outputs": [],
   "source": [
    "X_train_augmented = [image for image in X_train]\n",
    "y_train_augmented = [label for label in y_train]\n",
    "\n",
    "for dx, dy in ((1, 0), (-1, 0), (0, 1), (0, -1)):\n",
    "    for image, label in zip(X_train, y_train):\n",
    "        X_train_augmented.append(shift_image(image, dx, dy))\n",
    "        y_train_augmented.append(label)\n",
    "\n",
    "X_train_augmented = np.array(X_train_augmented)\n",
    "y_train_augmented = np.array(y_train_augmented)"
   ]
  },
  {
   "cell_type": "code",
   "execution_count": 109,
   "id": "bc5aa5d8",
   "metadata": {},
   "outputs": [],
   "source": [
    "shuffle_idx = np.random.permutation(len(X_train_augmented))\n",
    "X_train_augmented = X_train_augmented[shuffle_idx]\n",
    "y_train_augmented = y_train_augmented[shuffle_idx]"
   ]
  },
  {
   "cell_type": "code",
   "execution_count": 179,
   "id": "d3fe120e",
   "metadata": {},
   "outputs": [
    {
     "data": {
      "text/plain": [
       "KNeighborsClassifier(n_neighbors=4, weights='distance')"
      ]
     },
     "execution_count": 179,
     "metadata": {},
     "output_type": "execute_result"
    }
   ],
   "source": [
    "from sklearn.model_selection import GridSearchCV\n",
    "\n",
    "\n",
    "knn_clf = KNeighborsClassifier(**grid_search.best_params_)\n",
    "knn_clf.fit(X_train_augmented, y_train_augmented)"
   ]
  },
  {
   "cell_type": "code",
   "execution_count": 180,
   "id": "7c00d38d",
   "metadata": {},
   "outputs": [
    {
     "data": {
      "text/plain": [
       "0.9763"
      ]
     },
     "execution_count": 180,
     "metadata": {},
     "output_type": "execute_result"
    }
   ],
   "source": [
    "y_pred = knn_clf.predict(X_test)\n",
    "accuracy_score(y_test, y_pred)"
   ]
  },
  {
   "cell_type": "markdown",
   "id": "d4b37387",
   "metadata": {},
   "source": [
    "## Exercise 3"
   ]
  },
  {
   "cell_type": "markdown",
   "id": "c62aebc5",
   "metadata": {},
   "source": [
    "### Tackle the Titanic dataset"
   ]
  },
  {
   "cell_type": "code",
   "execution_count": 64,
   "id": "146d3a85",
   "metadata": {},
   "outputs": [],
   "source": [
    "# Import libraries\n",
    "\n",
    "import pandas as pd\n",
    "import numpy as np"
   ]
  },
  {
   "cell_type": "code",
   "execution_count": 83,
   "id": "b023dda3",
   "metadata": {},
   "outputs": [],
   "source": [
    "url = (r'C:\\Users\\prosp\\OneDrive\\Documents\\UL\\Fall 2022\\INFX598-001-202320 Machine Learning Applications\\titanic\\train.csv')\n",
    "train_data_tt = pd.read_csv(url)\n",
    "url_test = (r'C:\\Users\\prosp\\OneDrive\\Documents\\UL\\Fall 2022\\INFX598-001-202320 Machine Learning Applications\\titanic\\test.csv')\n",
    "test_data_tt = pd.read_csv(url_test)"
   ]
  },
  {
   "cell_type": "code",
   "execution_count": 84,
   "id": "d35af8e0",
   "metadata": {},
   "outputs": [
    {
     "data": {
      "text/html": [
       "<div>\n",
       "<style scoped>\n",
       "    .dataframe tbody tr th:only-of-type {\n",
       "        vertical-align: middle;\n",
       "    }\n",
       "\n",
       "    .dataframe tbody tr th {\n",
       "        vertical-align: top;\n",
       "    }\n",
       "\n",
       "    .dataframe thead th {\n",
       "        text-align: right;\n",
       "    }\n",
       "</style>\n",
       "<table border=\"1\" class=\"dataframe\">\n",
       "  <thead>\n",
       "    <tr style=\"text-align: right;\">\n",
       "      <th></th>\n",
       "      <th>PassengerId</th>\n",
       "      <th>Survived</th>\n",
       "      <th>Pclass</th>\n",
       "      <th>Name</th>\n",
       "      <th>Sex</th>\n",
       "      <th>Age</th>\n",
       "      <th>SibSp</th>\n",
       "      <th>Parch</th>\n",
       "      <th>Ticket</th>\n",
       "      <th>Fare</th>\n",
       "      <th>Cabin</th>\n",
       "      <th>Embarked</th>\n",
       "    </tr>\n",
       "  </thead>\n",
       "  <tbody>\n",
       "    <tr>\n",
       "      <th>0</th>\n",
       "      <td>1</td>\n",
       "      <td>0</td>\n",
       "      <td>3</td>\n",
       "      <td>Braund, Mr. Owen Harris</td>\n",
       "      <td>male</td>\n",
       "      <td>22.0</td>\n",
       "      <td>1</td>\n",
       "      <td>0</td>\n",
       "      <td>A/5 21171</td>\n",
       "      <td>7.2500</td>\n",
       "      <td>NaN</td>\n",
       "      <td>S</td>\n",
       "    </tr>\n",
       "    <tr>\n",
       "      <th>1</th>\n",
       "      <td>2</td>\n",
       "      <td>1</td>\n",
       "      <td>1</td>\n",
       "      <td>Cumings, Mrs. John Bradley (Florence Briggs Th...</td>\n",
       "      <td>female</td>\n",
       "      <td>38.0</td>\n",
       "      <td>1</td>\n",
       "      <td>0</td>\n",
       "      <td>PC 17599</td>\n",
       "      <td>71.2833</td>\n",
       "      <td>C85</td>\n",
       "      <td>C</td>\n",
       "    </tr>\n",
       "    <tr>\n",
       "      <th>2</th>\n",
       "      <td>3</td>\n",
       "      <td>1</td>\n",
       "      <td>3</td>\n",
       "      <td>Heikkinen, Miss. Laina</td>\n",
       "      <td>female</td>\n",
       "      <td>26.0</td>\n",
       "      <td>0</td>\n",
       "      <td>0</td>\n",
       "      <td>STON/O2. 3101282</td>\n",
       "      <td>7.9250</td>\n",
       "      <td>NaN</td>\n",
       "      <td>S</td>\n",
       "    </tr>\n",
       "    <tr>\n",
       "      <th>3</th>\n",
       "      <td>4</td>\n",
       "      <td>1</td>\n",
       "      <td>1</td>\n",
       "      <td>Futrelle, Mrs. Jacques Heath (Lily May Peel)</td>\n",
       "      <td>female</td>\n",
       "      <td>35.0</td>\n",
       "      <td>1</td>\n",
       "      <td>0</td>\n",
       "      <td>113803</td>\n",
       "      <td>53.1000</td>\n",
       "      <td>C123</td>\n",
       "      <td>S</td>\n",
       "    </tr>\n",
       "    <tr>\n",
       "      <th>4</th>\n",
       "      <td>5</td>\n",
       "      <td>0</td>\n",
       "      <td>3</td>\n",
       "      <td>Allen, Mr. William Henry</td>\n",
       "      <td>male</td>\n",
       "      <td>35.0</td>\n",
       "      <td>0</td>\n",
       "      <td>0</td>\n",
       "      <td>373450</td>\n",
       "      <td>8.0500</td>\n",
       "      <td>NaN</td>\n",
       "      <td>S</td>\n",
       "    </tr>\n",
       "  </tbody>\n",
       "</table>\n",
       "</div>"
      ],
      "text/plain": [
       "   PassengerId  Survived  Pclass  \\\n",
       "0            1         0       3   \n",
       "1            2         1       1   \n",
       "2            3         1       3   \n",
       "3            4         1       1   \n",
       "4            5         0       3   \n",
       "\n",
       "                                                Name     Sex   Age  SibSp  \\\n",
       "0                            Braund, Mr. Owen Harris    male  22.0      1   \n",
       "1  Cumings, Mrs. John Bradley (Florence Briggs Th...  female  38.0      1   \n",
       "2                             Heikkinen, Miss. Laina  female  26.0      0   \n",
       "3       Futrelle, Mrs. Jacques Heath (Lily May Peel)  female  35.0      1   \n",
       "4                           Allen, Mr. William Henry    male  35.0      0   \n",
       "\n",
       "   Parch            Ticket     Fare Cabin Embarked  \n",
       "0      0         A/5 21171   7.2500   NaN        S  \n",
       "1      0          PC 17599  71.2833   C85        C  \n",
       "2      0  STON/O2. 3101282   7.9250   NaN        S  \n",
       "3      0            113803  53.1000  C123        S  \n",
       "4      0            373450   8.0500   NaN        S  "
      ]
     },
     "execution_count": 84,
     "metadata": {},
     "output_type": "execute_result"
    }
   ],
   "source": [
    "train_data_tt.head()"
   ]
  },
  {
   "cell_type": "code",
   "execution_count": 85,
   "id": "f424a0b3",
   "metadata": {},
   "outputs": [],
   "source": [
    "# set the PassengerId column as the index column\n",
    "\n",
    "train_data_tt = train_data_tt.set_index(\"PassengerId\")\n",
    "test_data_tt = test_data_tt.set_index(\"PassengerId\")"
   ]
  },
  {
   "cell_type": "code",
   "execution_count": 86,
   "id": "b7cb01e4",
   "metadata": {},
   "outputs": [
    {
     "name": "stdout",
     "output_type": "stream",
     "text": [
      "<class 'pandas.core.frame.DataFrame'>\n",
      "Int64Index: 891 entries, 1 to 891\n",
      "Data columns (total 11 columns):\n",
      " #   Column    Non-Null Count  Dtype  \n",
      "---  ------    --------------  -----  \n",
      " 0   Survived  891 non-null    int64  \n",
      " 1   Pclass    891 non-null    int64  \n",
      " 2   Name      891 non-null    object \n",
      " 3   Sex       891 non-null    object \n",
      " 4   Age       714 non-null    float64\n",
      " 5   SibSp     891 non-null    int64  \n",
      " 6   Parch     891 non-null    int64  \n",
      " 7   Ticket    891 non-null    object \n",
      " 8   Fare      891 non-null    float64\n",
      " 9   Cabin     204 non-null    object \n",
      " 10  Embarked  889 non-null    object \n",
      "dtypes: float64(2), int64(4), object(5)\n",
      "memory usage: 83.5+ KB\n"
     ]
    }
   ],
   "source": [
    "# info to see missing data\n",
    "\n",
    "train_data_tt.info()"
   ]
  },
  {
   "cell_type": "code",
   "execution_count": 87,
   "id": "95535901",
   "metadata": {},
   "outputs": [
    {
     "data": {
      "text/plain": [
       "0    549\n",
       "1    342\n",
       "Name: Survived, dtype: int64"
      ]
     },
     "execution_count": 87,
     "metadata": {},
     "output_type": "execute_result"
    }
   ],
   "source": [
    "train_data_tt[\"Survived\"].value_counts()"
   ]
  },
  {
   "cell_type": "code",
   "execution_count": 88,
   "id": "229c1713",
   "metadata": {},
   "outputs": [
    {
     "data": {
      "text/html": [
       "<div>\n",
       "<style scoped>\n",
       "    .dataframe tbody tr th:only-of-type {\n",
       "        vertical-align: middle;\n",
       "    }\n",
       "\n",
       "    .dataframe tbody tr th {\n",
       "        vertical-align: top;\n",
       "    }\n",
       "\n",
       "    .dataframe thead th {\n",
       "        text-align: right;\n",
       "    }\n",
       "</style>\n",
       "<table border=\"1\" class=\"dataframe\">\n",
       "  <thead>\n",
       "    <tr style=\"text-align: right;\">\n",
       "      <th></th>\n",
       "      <th>Survived</th>\n",
       "      <th>Pclass</th>\n",
       "      <th>Age</th>\n",
       "      <th>SibSp</th>\n",
       "      <th>Parch</th>\n",
       "      <th>Fare</th>\n",
       "    </tr>\n",
       "  </thead>\n",
       "  <tbody>\n",
       "    <tr>\n",
       "      <th>count</th>\n",
       "      <td>891.000000</td>\n",
       "      <td>891.000000</td>\n",
       "      <td>714.000000</td>\n",
       "      <td>891.000000</td>\n",
       "      <td>891.000000</td>\n",
       "      <td>891.000000</td>\n",
       "    </tr>\n",
       "    <tr>\n",
       "      <th>mean</th>\n",
       "      <td>0.383838</td>\n",
       "      <td>2.308642</td>\n",
       "      <td>29.699118</td>\n",
       "      <td>0.523008</td>\n",
       "      <td>0.381594</td>\n",
       "      <td>32.204208</td>\n",
       "    </tr>\n",
       "    <tr>\n",
       "      <th>std</th>\n",
       "      <td>0.486592</td>\n",
       "      <td>0.836071</td>\n",
       "      <td>14.526497</td>\n",
       "      <td>1.102743</td>\n",
       "      <td>0.806057</td>\n",
       "      <td>49.693429</td>\n",
       "    </tr>\n",
       "    <tr>\n",
       "      <th>min</th>\n",
       "      <td>0.000000</td>\n",
       "      <td>1.000000</td>\n",
       "      <td>0.420000</td>\n",
       "      <td>0.000000</td>\n",
       "      <td>0.000000</td>\n",
       "      <td>0.000000</td>\n",
       "    </tr>\n",
       "    <tr>\n",
       "      <th>25%</th>\n",
       "      <td>0.000000</td>\n",
       "      <td>2.000000</td>\n",
       "      <td>20.125000</td>\n",
       "      <td>0.000000</td>\n",
       "      <td>0.000000</td>\n",
       "      <td>7.910400</td>\n",
       "    </tr>\n",
       "    <tr>\n",
       "      <th>50%</th>\n",
       "      <td>0.000000</td>\n",
       "      <td>3.000000</td>\n",
       "      <td>28.000000</td>\n",
       "      <td>0.000000</td>\n",
       "      <td>0.000000</td>\n",
       "      <td>14.454200</td>\n",
       "    </tr>\n",
       "    <tr>\n",
       "      <th>75%</th>\n",
       "      <td>1.000000</td>\n",
       "      <td>3.000000</td>\n",
       "      <td>38.000000</td>\n",
       "      <td>1.000000</td>\n",
       "      <td>0.000000</td>\n",
       "      <td>31.000000</td>\n",
       "    </tr>\n",
       "    <tr>\n",
       "      <th>max</th>\n",
       "      <td>1.000000</td>\n",
       "      <td>3.000000</td>\n",
       "      <td>80.000000</td>\n",
       "      <td>8.000000</td>\n",
       "      <td>6.000000</td>\n",
       "      <td>512.329200</td>\n",
       "    </tr>\n",
       "  </tbody>\n",
       "</table>\n",
       "</div>"
      ],
      "text/plain": [
       "         Survived      Pclass         Age       SibSp       Parch        Fare\n",
       "count  891.000000  891.000000  714.000000  891.000000  891.000000  891.000000\n",
       "mean     0.383838    2.308642   29.699118    0.523008    0.381594   32.204208\n",
       "std      0.486592    0.836071   14.526497    1.102743    0.806057   49.693429\n",
       "min      0.000000    1.000000    0.420000    0.000000    0.000000    0.000000\n",
       "25%      0.000000    2.000000   20.125000    0.000000    0.000000    7.910400\n",
       "50%      0.000000    3.000000   28.000000    0.000000    0.000000   14.454200\n",
       "75%      1.000000    3.000000   38.000000    1.000000    0.000000   31.000000\n",
       "max      1.000000    3.000000   80.000000    8.000000    6.000000  512.329200"
      ]
     },
     "execution_count": 88,
     "metadata": {},
     "output_type": "execute_result"
    }
   ],
   "source": [
    "train_data_tt.describe()"
   ]
  },
  {
   "cell_type": "code",
   "execution_count": 89,
   "id": "cd14326d",
   "metadata": {},
   "outputs": [],
   "source": [
    "# build our preprocessing pipelines for numerical attributes\n",
    "\n",
    "from sklearn.pipeline import Pipeline\n",
    "from sklearn.impute import SimpleImputer\n",
    "from sklearn.preprocessing import StandardScaler\n",
    "\n",
    "num_pipeline = Pipeline([\n",
    "    (\"imputer\", SimpleImputer(strategy=\"median\")),\n",
    "    (\"scaler\", StandardScaler())\n",
    "])"
   ]
  },
  {
   "cell_type": "code",
   "execution_count": 90,
   "id": "ca29afb5",
   "metadata": {},
   "outputs": [],
   "source": [
    "# build our preprocessing pipelines for categorical attributes\n",
    "\n",
    "from sklearn.preprocessing import OneHotEncoder\n",
    "\n",
    "cat_pipeline = Pipeline([\n",
    "    (\"imputer\", SimpleImputer(strategy=\"most_frequent\")),\n",
    "    (\"cat_encoder\", OneHotEncoder(sparse=False))\n",
    "])"
   ]
  },
  {
   "cell_type": "code",
   "execution_count": 91,
   "id": "2e607c32",
   "metadata": {},
   "outputs": [],
   "source": [
    "# Join both the numerical and categorical attributes\n",
    "\n",
    "from sklearn.compose import ColumnTransformer\n",
    "\n",
    "\n",
    "num_attr = [\"Age\",\"SibSp\", \"Parch\", \"Fare\"]\n",
    "cat_attr = [\"Pclass\", \"Sex\", \"Embarked\"]\n",
    "\n",
    "joint_attr = ColumnTransformer([\n",
    "    (\"num_pipeline\", num_pipeline, num_attr),\n",
    "    (\"cat_encoder\", cat_pipeline, cat_attr)\n",
    "])"
   ]
  },
  {
   "cell_type": "code",
   "execution_count": 92,
   "id": "00c60407",
   "metadata": {},
   "outputs": [
    {
     "data": {
      "text/plain": [
       "array([[-0.56573646,  0.43279337, -0.47367361, ...,  0.        ,\n",
       "         0.        ,  1.        ],\n",
       "       [ 0.66386103,  0.43279337, -0.47367361, ...,  1.        ,\n",
       "         0.        ,  0.        ],\n",
       "       [-0.25833709, -0.4745452 , -0.47367361, ...,  0.        ,\n",
       "         0.        ,  1.        ],\n",
       "       ...,\n",
       "       [-0.1046374 ,  0.43279337,  2.00893337, ...,  0.        ,\n",
       "         0.        ,  1.        ],\n",
       "       [-0.25833709, -0.4745452 , -0.47367361, ...,  1.        ,\n",
       "         0.        ,  0.        ],\n",
       "       [ 0.20276197, -0.4745452 , -0.47367361, ...,  0.        ,\n",
       "         1.        ,  0.        ]])"
      ]
     },
     "execution_count": 92,
     "metadata": {},
     "output_type": "execute_result"
    }
   ],
   "source": [
    "X_train_tt = joint_attr.fit_transform(train_data)\n",
    "X_train_tt"
   ]
  },
  {
   "cell_type": "code",
   "execution_count": 93,
   "id": "377a1927",
   "metadata": {},
   "outputs": [],
   "source": [
    "# get the labels\n",
    "y_train_tt = train_data_tt[\"Survived\"]"
   ]
  },
  {
   "cell_type": "code",
   "execution_count": 94,
   "id": "5a894a95",
   "metadata": {},
   "outputs": [
    {
     "data": {
      "text/plain": [
       "RandomForestClassifier(random_state=42)"
      ]
     },
     "execution_count": 94,
     "metadata": {},
     "output_type": "execute_result"
    }
   ],
   "source": [
    "# Let's train the classifier\n",
    "\n",
    "from sklearn.ensemble import RandomForestClassifier\n",
    "\n",
    "Ranfor_clf = RandomForestClassifier(n_estimators= 100, random_state=42)\n",
    "Ranfor_clf.fit(X_train_tt, y_train_tt)"
   ]
  },
  {
   "cell_type": "code",
   "execution_count": 95,
   "id": "5cdc1ba6",
   "metadata": {},
   "outputs": [
    {
     "data": {
      "text/plain": [
       "0.8092759051186016"
      ]
     },
     "execution_count": 95,
     "metadata": {},
     "output_type": "execute_result"
    }
   ],
   "source": [
    "# Calculate mean score adding cross-validation\n",
    "\n",
    "from sklearn.model_selection import cross_val_score\n",
    "\n",
    "Ranfor_scores = cross_val_score(Ranfor_clf, X_train_tt, y_train_tt, cv=10)\n",
    "Ranfor_scores.mean()"
   ]
  },
  {
   "cell_type": "code",
   "execution_count": 96,
   "id": "ff6716ed",
   "metadata": {},
   "outputs": [
    {
     "data": {
      "text/plain": [
       "0.8249313358302123"
      ]
     },
     "execution_count": 96,
     "metadata": {},
     "output_type": "execute_result"
    }
   ],
   "source": [
    "# Let's try Decision Tree\n",
    "\n",
    "from sklearn.svm import SVC\n",
    "\n",
    "svm_clf = SVC(gamma=\"auto\")\n",
    "svm_scores = cross_val_score(svm_clf, X_train_tt, y_train_tt, cv= 10)\n",
    "svm_scores.mean()"
   ]
  },
  {
   "cell_type": "markdown",
   "id": "21209451",
   "metadata": {},
   "source": [
    "## Exercise 4"
   ]
  },
  {
   "cell_type": "markdown",
   "id": "1ec7c3a9",
   "metadata": {},
   "source": [
    "### Spam Classifier"
   ]
  },
  {
   "cell_type": "code",
   "execution_count": 114,
   "id": "fb41321a",
   "metadata": {},
   "outputs": [],
   "source": [
    "# Let's fetch the data\n",
    "\n",
    "import os\n",
    "import tarfile\n",
    "import urllib.request\n",
    "\n",
    "DOWNLOAD_ROOT = \"http://spamassassin.apache.org/old/publiccorpus/\"\n",
    "HAM_URL = DOWNLOAD_ROOT + \"20030228_easy_ham.tar.bz2\"\n",
    "SPAM_URL = DOWNLOAD_ROOT + \"20030228_spam.tar.bz2\"\n",
    "SPAM_PATH = os.path.join(\"datasets\", \"spam\")\n",
    "\n",
    "def fetch_spam_data(ham_url=HAM_URL, spam_url=SPAM_URL, spam_path=SPAM_PATH):\n",
    "    if not os.path.isdir(spam_path):\n",
    "        os.makedirs(spam_path)\n",
    "    for filename, url in ((\"ham.tar.bz2\", ham_url), (\"spam.tar.bz2\", spam_url)):\n",
    "        path = os.path.join(spam_path, filename)\n",
    "        if not os.path.isfile(path):\n",
    "            urllib.request.urlretrieve(url, path)\n",
    "        tar_bz2_file = tarfile.open(path)\n",
    "        tar_bz2_file.extractall(path=spam_path)\n",
    "        tar_bz2_file.close()"
   ]
  },
  {
   "cell_type": "code",
   "execution_count": 115,
   "id": "8ca568a1",
   "metadata": {},
   "outputs": [],
   "source": [
    "fetch_spam_data()"
   ]
  },
  {
   "cell_type": "code",
   "execution_count": 117,
   "id": "d4c0b9af",
   "metadata": {},
   "outputs": [],
   "source": [
    "# let's load all the emails\n",
    "\n",
    "HAM_DIR = os.path.join(SPAM_PATH, \"easy_ham\")\n",
    "SPAM_DIR = os.path.join(SPAM_PATH, \"spam\")\n",
    "ham_filenames = [name for name in sorted(os.listdir(HAM_DIR)) if len(name) > 20]\n",
    "spam_filenames = [name for name in sorted(os.listdir(SPAM_DIR)) if len(name) > 20]"
   ]
  },
  {
   "cell_type": "code",
   "execution_count": 118,
   "id": "91eb8cae",
   "metadata": {},
   "outputs": [
    {
     "data": {
      "text/plain": [
       "2500"
      ]
     },
     "execution_count": 118,
     "metadata": {},
     "output_type": "execute_result"
    }
   ],
   "source": [
    "len(ham_filenames)"
   ]
  },
  {
   "cell_type": "code",
   "execution_count": 119,
   "id": "dc2bf288",
   "metadata": {},
   "outputs": [
    {
     "data": {
      "text/plain": [
       "500"
      ]
     },
     "execution_count": 119,
     "metadata": {},
     "output_type": "execute_result"
    }
   ],
   "source": [
    "len(spam_filenames)"
   ]
  },
  {
   "cell_type": "code",
   "execution_count": 120,
   "id": "78eeb07e",
   "metadata": {},
   "outputs": [],
   "source": [
    "import email\n",
    "import email.policy\n",
    "\n",
    "def load_email(is_spam, filename, spam_path=SPAM_PATH):\n",
    "    directory = \"spam\" if is_spam else \"easy_ham\"\n",
    "    with open(os.path.join(spam_path, directory, filename), \"rb\") as f:\n",
    "        return email.parser.BytesParser(policy=email.policy.default).parse(f)"
   ]
  },
  {
   "cell_type": "code",
   "execution_count": 121,
   "id": "aed83557",
   "metadata": {},
   "outputs": [],
   "source": [
    "ham_emails = [load_email(is_spam=False, filename=name) for name in ham_filenames]\n",
    "spam_emails = [load_email(is_spam=True, filename=name) for name in spam_filenames]"
   ]
  },
  {
   "cell_type": "code",
   "execution_count": 123,
   "id": "9448982a",
   "metadata": {},
   "outputs": [
    {
     "name": "stdout",
     "output_type": "stream",
     "text": [
      "Man Threatens Explosion In Moscow \n",
      "\n",
      "Thursday August 22, 2002 1:40 PM\n",
      "MOSCOW (AP) - Security officers on Thursday seized an unidentified man who\n",
      "said he was armed with explosives and threatened to blow up his truck in\n",
      "front of Russia's Federal Security Services headquarters in Moscow, NTV\n",
      "television reported.\n",
      "The officers seized an automatic rifle the man was carrying, then the man\n",
      "got out of the truck and was taken into custody, NTV said. No other details\n",
      "were immediately available.\n",
      "The man had demanded talks with high government officials, the Interfax and\n",
      "ITAR-Tass news agencies said. Ekho Moskvy radio reported that he wanted to\n",
      "talk with Russian President Vladimir Putin.\n",
      "Police and security forces rushed to the Security Service building, within\n",
      "blocks of the Kremlin, Red Square and the Bolshoi Ballet, and surrounded the\n",
      "man, who claimed to have one and a half tons of explosives, the news\n",
      "agencies said. Negotiations continued for about one and a half hours outside\n",
      "the building, ITAR-Tass and Interfax reported, citing witnesses.\n",
      "The man later drove away from the building, under police escort, and drove\n",
      "to a street near Moscow's Olympic Penta Hotel, where authorities held\n",
      "further negotiations with him, the Moscow police press service said. The\n",
      "move appeared to be an attempt by security services to get him to a more\n",
      "secure location. \n",
      "\n",
      "------------------------ Yahoo! Groups Sponsor ---------------------~-->\n",
      "4 DVDs Free +s&p Join Now\n",
      "http://us.click.yahoo.com/pt6YBB/NXiEAA/mG3HAA/7gSolB/TM\n",
      "---------------------------------------------------------------------~->\n",
      "\n",
      "To unsubscribe from this group, send an email to:\n",
      "forteana-unsubscribe@egroups.com\n",
      "\n",
      " \n",
      "\n",
      "Your use of Yahoo! Groups is subject to http://docs.yahoo.com/info/terms/\n"
     ]
    }
   ],
   "source": [
    "print(ham_emails[2].get_content().strip())"
   ]
  },
  {
   "cell_type": "code",
   "execution_count": 124,
   "id": "c3952050",
   "metadata": {},
   "outputs": [
    {
     "name": "stdout",
     "output_type": "stream",
     "text": [
      "<html>\n",
      "<head>\n",
      "<title>ReliaQuote - Save Up To 70% On Life Insurance</title>\n",
      "<meta http-equiv=\"Content-Type\" content=\"text/html; charset=iso-8859-1\">\n",
      "</head>\n",
      "<body leftmargin=\"0\" topmargin=\"0\" link=\"#FFCC99\" vlink=\"#FFCC99\" alink=\"#FFCC00\">\n",
      "<table align=\"center\" width=\"468\" border=\"0\" cellspacing=\"0\" cellpadding=\"0\" height=\"500\" bgcolor=\"993366\">\n",
      "  <tr>\n",
      "    <td align=\"left\" valign=\"top\" height=\"43\" width=\"56%\">\n",
      "      <table width=\"100%\" border=\"0\" cellspacing=\"0\" cellpadding=\"3\">\n",
      "        <tr>\n",
      "          <td><a href=\"http://theadmanager.com/server/c.asp?ad_key=YUESBHWAKMLK&ext=1\" target=\"_blank\"><img src=\"http://www.reliaquote.com/banner/bannerads/images/logo6.gif\" width=\"120\" height=\"32\" border=\"0\"></a></td>\n",
      "        </tr>\n",
      "      </table>\n",
      "    </td>\n",
      "    <td align=\"left\" valign=\"top\" height=\"43\" width=\"44%\">&nbsp;</td>\n",
      "  </tr>\n",
      "  <tr>\n",
      "    <td align=\"left\" valign=\"top\" width=\"56%\" height=\"377\">\n",
      "      <table width=\"100%\" border=\"0\" cellspacing=\"0\" cellpadding=\"0\">\n",
      "        <tr align=\"right\" valign=\"top\" bgcolor=\"#FFCCFF\">\n",
      "          <td height=\"2\"><img src=\"http://www.reliaquote.com/banner/bannerads/images/headline6.gif\" width=\"220\" height=\"72\"></td>\n",
      "        </tr>\n",
      "        <tr align=\"center\" valign=\"top\" bgcolor=\"336699\">\n",
      "          <td height=\"2\">\n",
      "            <table width=\"100%\" border=\"0\" cellspacing=\"0\" cellpadding=\"0\">\n",
      "              <tr align=\"center\" valign=\"top\">\n",
      "                <td height=\"32\">\n",
      "                  <table width=\"100%\" border=\"0\" cellspacing=\"0\" cellpadding=\"0\">\n",
      "                    <tr align=\"left\" valign=\"top\">\n",
      "                      <td height=\"34\">\n",
      "                        <table width=\"100%\" border=\"0\" cellspacing=\"8\" cellpadding=\"0\" bgcolor=\"#993366\">\n",
      "                          <tr align=\"center\" valign=\"top\">\n",
      "                            <td height=\"45\">\n",
      "                              <p><font color=\"#FFCC00\" face=\"Tahoma, Verdana, Arial\" size=\"2\"><b>Life\n",
      "                                can change in an instant. That's why it is so\n",
      "                                important to protect your family's financial future\n",
      "                                with sufficient life insurance coverage.</b></font></p>\n",
      "                            </td>\n",
      "                          </tr>\n",
      "                        </table>\n",
      "                      </td>\n",
      "                    </tr>\n",
      "                  </table>\n",
      "                </td>\n",
      "              </tr>\n",
      "            </table>\n",
      "          </td>\n",
      "        </tr>\n",
      "        <tr bgcolor=\"#FFCC00\" align=\"center\" valign=\"middle\">\n",
      "          <td height=\"27\"><font size=\"1\"><b><img src=\"http://www.reliaquote.com/banner/bannerads/images/freequotes6.gif\" width=\"177\" height=\"24\"></b></font></td>\n",
      "        </tr>\n",
      "        <tr align=\"left\" valign=\"top\" bgcolor=\"#3366CC\">\n",
      "          <td height=\"294\">\n",
      "            <form name=FreeQuoteForm ACTION=\"http://www.reliaquote.com/termlife/cgi-bin/banner_quote_resp.asp\" METHOD=\"get\">\n",
      " <input type=hidden value=51100004022000000321 name=sourceid>\n",
      "              <table class=hptbcolor cellspacing=0 cellpadding=2 width=\"100%\"\n",
      "        border=0>\n",
      "                <tbody>\n",
      "                <tr>\n",
      "                  <td width=\"100%\">\n",
      "                    <table cellspacing=4 cellpadding=0 width=\"100%\" border=0>\n",
      "                      <tbody>\n",
      "                      <tr>\n",
      "                        <td class=content width=\"35%\"><font size=\"1\" face=\"Tahoma, Verdana, Arial\" color=\"#FFFFFF\"><strong>State\n",
      "                          of Residence:</strong></font></td>\n",
      "                        <td class=content width=\"65%\" align=\"left\" valign=\"middle\">\n",
      "                          <font face=\"Tahoma, Verdana, Arial\">\n",
      "                          <select id=FormsComboBox12\n",
      "                  size=1 name=state>\n",
      "                            <option value=\"\" selected>Select State</option>\n",
      "                            <option value=Alabama>Alabama</option>\n",
      "                            <option value=Alaska>Alaska</option>\n",
      "                            <option\n",
      "                    value=Arizona>Arizona</option>\n",
      "                            <option\n",
      "                    value=Arkansas>Arkansas</option>\n",
      "                            <option\n",
      "                    value=California>California</option>\n",
      "                            <option\n",
      "                    value=Colorado>Colorado</option>\n",
      "                            <option\n",
      "                    value=Connecticut>Connecticut</option>\n",
      "                            <option\n",
      "                    value=Delaware>Delaware</option>\n",
      "                            <option value=DC>Dist. of Columbia</option>\n",
      "                            <option value=Florida>Florida</option>\n",
      "                            <option value=Georgia>Georgia</option>\n",
      "                            <option\n",
      "                    value=Hawaii>Hawaii</option>\n",
      "                            <option\n",
      "                    value=Idaho>Idaho</option>\n",
      "                            <option\n",
      "                    value=Illinois>Illinois</option>\n",
      "                            <option\n",
      "                    value=Indiana>Indiana</option>\n",
      "                            <option\n",
      "                    value=Iowa>Iowa</option>\n",
      "                            <option\n",
      "                    value=Kansas>Kansas</option>\n",
      "                            <option\n",
      "                    value=Kentucky>Kentucky</option>\n",
      "                            <option\n",
      "                    value=Louisiana>Louisiana</option>\n",
      "                            <option\n",
      "                    value=Maine>Maine</option>\n",
      "                            <option\n",
      "                    value=Maryland>Maryland</option>\n",
      "                            <option\n",
      "                    value=Massachusetts>Massachusetts</option>\n",
      "                            <option\n",
      "                    value=Michigan>Michigan</option>\n",
      "                            <option\n",
      "                    value=Minnesota>Minnesota</option>\n",
      "                            <option\n",
      "                    value=Mississippi>Mississippi</option>\n",
      "                            <option\n",
      "                    value=Missouri>Missouri</option>\n",
      "                            <option\n",
      "                    value=Montana>Montana</option>\n",
      "                            <option\n",
      "                    value=Nebraska>Nebraska</option>\n",
      "                            <option\n",
      "                    value=Nevada>Nevada</option>\n",
      "                            <option\n",
      "                    value=\"New Hampshire\">New Hampshire</option>\n",
      "                            <option\n",
      "                    value=\"New Jersey\">New Jersey</option>\n",
      "                            <option\n",
      "                    value=\"New Mexico\">New Mexico</option>\n",
      "                            <option\n",
      "                    value=\"New York\">New York</option>\n",
      "                            <option\n",
      "                    value=\"North Carolina\">North Carolina</option>\n",
      "                            <option\n",
      "                    value=\"North Dakota\">North Dakota</option>\n",
      "                            <option\n",
      "                    value=Ohio>Ohio</option>\n",
      "                            <option\n",
      "                    value=Oklahoma>Oklahoma</option>\n",
      "                            <option\n",
      "                    value=Oregon>Oregon</option>\n",
      "                            <option\n",
      "                    value=Pennsylvania>Pennsylvania</option>\n",
      "                            <option\n",
      "                    value=\"Rhode Island\">Rhode Island</option>\n",
      "                            <option\n",
      "                    value=\"South Carolina\">South Carolina</option>\n",
      "                            <option\n",
      "                    value=\"South Dakota\">South Dakota</option>\n",
      "                            <option\n",
      "                    value=Tennessee>Tennessee</option>\n",
      "                            <option\n",
      "                    value=Texas>Texas</option>\n",
      "                            <option value=Utah>Utah</option>\n",
      "                            <option value=Vermont>Vermont</option>\n",
      "                            <option\n",
      "                    value=Virginia>Virginia</option>\n",
      "                            <option\n",
      "                    value=Washington>Washington</option>\n",
      "                            <option\n",
      "                    value=\"West Virginia\">West Virginia</option>\n",
      "                            <option\n",
      "                    value=Wisconsin>Wisconsin</option>\n",
      "                            <option\n",
      "                    value=Wyoming>Wyoming</option>\n",
      "                          </select>\n",
      "                          </font></td>\n",
      "                      </tr>\n",
      "                      <tr>\n",
      "                        <td class=content width=\"35%\"><font size=\"1\" face=\"Tahoma, Verdana, Arial\" color=\"#FFFFFF\"><strong>Date\n",
      "                          of Birth (MM/DD/YY):</strong></font></td>\n",
      "                        <td noWrap width=\"65%\" align=\"left\" valign=\"middle\"> <font face=\"Tahoma, Verdana, Arial\">\n",
      "                          <select size=1 name=MM>\n",
      "                            <option\n",
      "                    value=\"\" selected>MM</option>\n",
      "                            <option value=01>01</option>\n",
      "                            <option value=02>02</option>\n",
      "                            <option value=03>03</option>\n",
      "                            <option value=04>04</option>\n",
      "                            <option value=05>05</option>\n",
      "                            <option value=06>06</option>\n",
      "                            <option value=07>07</option>\n",
      "                            <option value=08>08</option>\n",
      "                            <option value=09>09</option>\n",
      "                            <option value=10>10</option>\n",
      "                            <option value=11>11</option>\n",
      "                            <option value=12>12</option>\n",
      "                          </select>\n",
      "                          /\n",
      "                          <select size=1 name=DD>\n",
      "                            <option value=\"\" selected>DD</option>\n",
      "                            <option\n",
      "                    value=01>01</option>\n",
      "                            <option value=02>02</option>\n",
      "                            <option\n",
      "                    value=03>03</option>\n",
      "                            <option value=04>04</option>\n",
      "                            <option\n",
      "                    value=05>05</option>\n",
      "                            <option value=06>06</option>\n",
      "                            <option\n",
      "                    value=07>07</option>\n",
      "                            <option value=08>08</option>\n",
      "                            <option\n",
      "                    value=09>09</option>\n",
      "                            <option value=10>10</option>\n",
      "                            <option\n",
      "                    value=11>11</option>\n",
      "                            <option value=12>12</option>\n",
      "                            <option\n",
      "                    value=13>13</option>\n",
      "                            <option value=14>14</option>\n",
      "                            <option\n",
      "                    value=15>15</option>\n",
      "                            <option value=16>16</option>\n",
      "                            <option\n",
      "                    value=17>17</option>\n",
      "                            <option value=18>18</option>\n",
      "                            <option\n",
      "                    value=19>19</option>\n",
      "                            <option value=20>20</option>\n",
      "                            <option\n",
      "                    value=21>21</option>\n",
      "                            <option value=22>22</option>\n",
      "                            <option\n",
      "                    value=23>23</option>\n",
      "                            <option value=24>24</option>\n",
      "                            <option\n",
      "                    value=25>25</option>\n",
      "                            <option value=26>26</option>\n",
      "                            <option\n",
      "                    value=27>27</option>\n",
      "                            <option value=28>28</option>\n",
      "                            <option\n",
      "                    value=29>29</option>\n",
      "                            <option value=30>30</option>\n",
      "                            <option\n",
      "                    value=31>31</option>\n",
      "                          </select>\n",
      "                          /\n",
      "                          <select size=1 name=YY>\n",
      "                            <option value=\"\" selected>YY</option>\n",
      "                            <option\n",
      "                    value=13>13</option>\n",
      "                            <option value=14>14</option>\n",
      "                            <option\n",
      "                    value=15>15</option>\n",
      "                            <option value=16>16</option>\n",
      "                            <option\n",
      "                    value=17>17</option>\n",
      "                            <option value=18>18</option>\n",
      "                            <option\n",
      "                    value=19>19</option>\n",
      "                            <option value=20>20</option>\n",
      "                            <option\n",
      "                    value=21>21</option>\n",
      "                            <option value=22>22</option>\n",
      "                            <option\n",
      "                    value=23>23</option>\n",
      "                            <option value=24>24</option>\n",
      "                            <option\n",
      "                    value=25>25</option>\n",
      "                            <option value=26>26</option>\n",
      "                            <option\n",
      "                    value=27>27</option>\n",
      "                            <option value=28>28</option>\n",
      "                            <option\n",
      "                    value=29>29</option>\n",
      "                            <option value=30>30</option>\n",
      "                            <option\n",
      "                    value=31>31</option>\n",
      "                            <option value=32>32</option>\n",
      "                            <option\n",
      "                    value=33>33</option>\n",
      "                            <option value=34>34</option>\n",
      "                            <option\n",
      "                    value=35>35</option>\n",
      "                            <option value=36>36</option>\n",
      "                            <option\n",
      "                    value=37>37</option>\n",
      "                            <option value=38>38</option>\n",
      "                            <option\n",
      "                    value=39>39</option>\n",
      "                            <option value=40>40</option>\n",
      "                            <option\n",
      "                    value=41>41</option>\n",
      "                            <option value=42>42</option>\n",
      "                            <option\n",
      "                    value=43>43</option>\n",
      "                            <option value=44>44</option>\n",
      "                            <option\n",
      "                    value=45>45</option>\n",
      "                            <option value=46>46</option>\n",
      "                            <option\n",
      "                    value=47>47</option>\n",
      "                            <option value=48>48</option>\n",
      "                            <option\n",
      "                    value=49>49</option>\n",
      "                            <option value=50>50</option>\n",
      "                            <option\n",
      "                    value=51>51</option>\n",
      "                            <option value=52>52</option>\n",
      "                            <option\n",
      "                    value=53>53</option>\n",
      "                            <option value=54>54</option>\n",
      "                            <option\n",
      "                    value=55>55</option>\n",
      "                            <option value=56>56</option>\n",
      "                            <option\n",
      "                    value=57>57</option>\n",
      "                            <option value=58>58</option>\n",
      "                            <option\n",
      "                    value=59>59</option>\n",
      "                            <option value=60>60</option>\n",
      "                            <option\n",
      "                    value=61>61</option>\n",
      "                            <option value=62>62</option>\n",
      "                            <option\n",
      "                    value=63>63</option>\n",
      "                            <option value=64>64</option>\n",
      "                            <option\n",
      "                    value=65>65</option>\n",
      "                            <option value=66>66</option>\n",
      "                            <option\n",
      "                    value=67>67</option>\n",
      "                            <option value=68>68</option>\n",
      "                            <option\n",
      "                    value=69>69</option>\n",
      "                            <option value=70>70</option>\n",
      "                            <option\n",
      "                    value=71>71</option>\n",
      "                            <option value=72>72</option>\n",
      "                            <option\n",
      "                    value=73>73</option>\n",
      "                            <option value=74>74</option>\n",
      "                            <option\n",
      "                    value=75>75</option>\n",
      "                            <option value=76>76</option>\n",
      "                            <option\n",
      "                    value=77>77</option>\n",
      "                            <option value=78>78</option>\n",
      "                            <option\n",
      "                    value=79>79</option>\n",
      "                            <option value=80>80</option>\n",
      "                            <option\n",
      "                    value=81>81</option>\n",
      "                            <option value=82>82</option>\n",
      "                            <option\n",
      "                    value=83>83</option>\n",
      "                                          <option\n",
      "                    value=84>84</option>\n",
      "                          </select>\n",
      "                          </font></td>\n",
      "                      </tr>\n",
      "                      <tr>\n",
      "                        <td class=content width=\"35%\"><font size=\"1\" face=\"Tahoma, Verdana, Arial\" color=\"#FFFFFF\"><strong>Sex:</strong></font></td>\n",
      "                        <td noWrap width=\"65%\" align=\"left\" valign=\"middle\">\n",
      "                          <table cellspacing=0 width=\"100%\" border=0>\n",
      "                            <tbody>\n",
      "                            <tr>\n",
      "                              <td width=\"50%\"> <font color=\"#FFFFFF\" size=\"1\" face=\"Tahoma, Verdana, Arial\"><b>\n",
      "                                <input id=FormsRadioButton1 type=radio\n",
      "                        value=M name=Sex>\n",
      "                                Male</b></font></td>\n",
      "                              <td width=\"50%\"> <font color=\"#FFFFFF\" size=\"1\" face=\"Tahoma, Verdana, Arial\"><b>\n",
      "                                <input id=FormsRadioButton2 type=radio\n",
      "                        value=F name=Sex>\n",
      "                                Female</b></font></td>\n",
      "                            </tr>\n",
      "                            </tbody>\n",
      "                          </table>\n",
      "                        </td>\n",
      "                      </tr>\n",
      "                      <tr>\n",
      "                        <td class=content width=\"35%\"><font size=\"1\" face=\"Tahoma, Verdana, Arial\" color=\"#FFFFFF\"><strong>Have\n",
      "                          you used any tobacco products in the last 12 months?</strong></font></td>\n",
      "                        <td noWrap width=\"65%\" align=\"left\" valign=\"middle\">\n",
      "                          <table cellspacing=0 width=\"100%\" border=0>\n",
      "                            <tbody>\n",
      "                            <tr>\n",
      "                              <td width=\"50%\"> <b><font size=\"1\" face=\"Tahoma, Verdana, Arial\" color=\"#FFFFFF\">\n",
      "                                <input id=FormsRadioButton4 type=radio\n",
      "                        value=N name=Tobacco>\n",
      "                                No</font></b></td>\n",
      "                              <td width=\"50%\"> <b><font size=\"1\" face=\"Tahoma, Verdana, Arial\" color=\"#FFFFFF\">\n",
      "                                <input id=FormsRadioButton3 type=radio\n",
      "                        value=Y name=Tobacco>\n",
      "                                Yes</font></b></td>\n",
      "                            </tr>\n",
      "                            </tbody>\n",
      "                          </table>\n",
      "                        </td>\n",
      "                      </tr>\n",
      "                      <tr>\n",
      "                        <td class=content width=\"35%\"><font size=\"1\" face=\"Tahoma, Verdana, Arial\" color=\"#FFFFFF\"><strong>Coverage\n",
      "                          Amount:</strong></font></td>\n",
      "                        <td class=content width=\"65%\" align=\"left\" valign=\"middle\">\n",
      "                          <font face=\"Tahoma, Verdana, Arial\">\n",
      "                          <select id=FormsComboBox11\n",
      "                  size=1 name=coverage-amount>\n",
      "                            <option value=\"\"\n",
      "                    selected>Select Amount</option>\n",
      "                            <option\n",
      "                    value=100000.00>100,000</option>\n",
      "                            <option\n",
      "                    value=125000.00>125,000</option>\n",
      "                            <option\n",
      "                    value=150000.00>150,000</option>\n",
      "                            <option\n",
      "                    value=175000.00>175,000</option>\n",
      "                            <option\n",
      "                    value=200000.00>200,000</option>\n",
      "                            <option\n",
      "                    value=225000.00>225,000</option>\n",
      "                            <option\n",
      "                    value=250000.00>250,000</option>\n",
      "                            <option\n",
      "                    value=275000.00>275,000</option>\n",
      "                            <option\n",
      "                    value=300000.00>300,000</option>\n",
      "                            <option\n",
      "                    value=325000.00>325,000</option>\n",
      "                            <option\n",
      "                    value=350000.00>350,000</option>\n",
      "                            <option\n",
      "                    value=375000.00>375,000</option>\n",
      "                            <option\n",
      "                    value=400000.00>400,000</option>\n",
      "                            <option\n",
      "                    value=425000.00>425,000</option>\n",
      "                            <option\n",
      "                    value=450000.00>450,000</option>\n",
      "                            <option\n",
      "                    value=475000.00>475,000</option>\n",
      "                            <option\n",
      "                    value=500000.00>500,000</option>\n",
      "                            <option\n",
      "                    value=550000.00>550,000</option>\n",
      "                            <option\n",
      "                    value=600000.00>600,000</option>\n",
      "                            <option\n",
      "                    value=650000.00>650,000</option>\n",
      "                            <option\n",
      "                    value=700000.00>700,000</option>\n",
      "                            <option\n",
      "                    value=750000.00>750,000</option>\n",
      "                            <option\n",
      "                    value=800000.00>800,000</option>\n",
      "                            <option\n",
      "                    value=850000.00>850,000</option>\n",
      "                            <option\n",
      "                    value=900000.00>900,000</option>\n",
      "                            <option\n",
      "                    value=950000.00>950,000</option>\n",
      "                            <option\n",
      "                    value=1000000.00>1,000,000</option>\n",
      "                            <option\n",
      "                    value=1250000.00>1,250,000</option>\n",
      "                            <option\n",
      "                    value=1500000.00>1,500,000</option>\n",
      "                            <option\n",
      "                    value=1750000.00>1,750,000</option>\n",
      "                            <option\n",
      "                    value=2000000.00>2,000,000</option>\n",
      "                            <option\n",
      "                    value=2250000.00>2,250,000</option>\n",
      "                            <option\n",
      "                    value=2500000.00>2,500,000</option>\n",
      "                            <option\n",
      "                    value=3000000.00>3,000,000</option>\n",
      "                            <option\n",
      "                    value=3500000.00>3,500,000</option>\n",
      "                            <option\n",
      "                    value=4000000.00>4,000,000</option>\n",
      "                            <option\n",
      "                    value=4500000.00>4,500,000</option>\n",
      "                            <option\n",
      "                    value=5000000.00>5,000,000</option>\n",
      "                            <option\n",
      "                    value=6000000.00>6,000,000</option>\n",
      "                            <option\n",
      "                    value=7000000.00>7,000,000</option>\n",
      "                            <option\n",
      "                    value=8000000.00>8,000,000</option>\n",
      "                            <option\n",
      "                    value=9000000.00>9,000,000</option>\n",
      "                            <option\n",
      "                    value=10000000.00>10,000,000</option>\n",
      "                            <option\n",
      "                    value=11000000.00>11,000,000</option>\n",
      "                            <option\n",
      "                    value=12000000.00>12,000,000</option>\n",
      "                            <option\n",
      "                    value=13000000.00>13,000,000</option>\n",
      "                            <option\n",
      "                    value=14000000.00>14,000,000</option>\n",
      "                            <option\n",
      "                    value=15000000.00>15,000,000</option>\n",
      "                          </select>\n",
      "                          </font></td>\n",
      "                      </tr>\n",
      "                      <tr>\n",
      "                        <td class=content width=\"35%\"><font size=\"1\" face=\"Tahoma, Verdana, Arial\" color=\"#FFFFFF\"><strong>How\n",
      "                          long do you need the coverage?</strong></font></td>\n",
      "                        <td class=content width=\"65%\" align=\"left\" valign=\"middle\">\n",
      "                          <font face=\"Tahoma, Verdana, Arial\">\n",
      "                          <select id=FormsComboBox10\n",
      "                  size=1 name=plan>\n",
      "                            <option value=\"\" selected>Select Year</option>\n",
      "                            <option value=5>5 Years</option>\n",
      "                            <option\n",
      "                    value=10>10 Years</option>\n",
      "                            <option value=15>15 Years</option>\n",
      "                            <option value=20>20 Years</option>\n",
      "                            <option\n",
      "                    value=25>25 Years</option>\n",
      "                            <option value=30>30 Years</option>\n",
      "                          </select>\n",
      "                          </font></td>\n",
      "                      </tr>\n",
      "                      <tr>\n",
      "                        <td width=\"35%\" height=\"2\">&nbsp; </td>\n",
      "                        <td class=content align=left width=\"65%\" height=\"2\" valign=\"top\">\n",
      "                          <font face=\"Tahoma, Verdana, Arial\">\n",
      "                          <input id=FormsButton1 type=submit value=\"Get A Quote\" name=SubmitButton>\n",
      "                          </font></td>\n",
      "                      </tr>\n",
      "                      </tbody>\n",
      "                    </table>\n",
      "                  </td>\n",
      "                </tr>\n",
      "                </tbody>\n",
      "              </table>\n",
      "            </form>\n",
      "\n",
      "          </td>\n",
      "        </tr>\n",
      "      </table>\n",
      "    <td align=\"left\" valign=\"top\" width=\"44%\" height=\"377\"><a href=\"http://theadmanager.com/server/c.asp?ad_key=YUESBHWAKMLK&ext=1\" target=\"_blank\"><img src=\"http://www.reliaquote.com/banner/bannerads/images/photo6.jpg\" width=\"210\" height=\"173\" border=\"0\"></a><br>\n",
      "      <table width=\"100%\" border=\"0\" cellspacing=\"0\" cellpadding=\"0\">\n",
      "        <tr align=\"center\" valign=\"top\">\n",
      "          <td height=\"217\" nowrap>\n",
      "            <table width=\"100%\" border=\"0\" cellspacing=\"0\" cellpadding=\"10\">\n",
      "              <tr align=\"left\" valign=\"top\">\n",
      "                <td height=\"40\">\n",
      "                  <div align=\"center\"><font face=\"Tahoma, Verdana, Arial\" size=\"1\" color=\"#FFFFFF\"><b>ReliaQuote\n",
      "                    makes it easy and affordable. We can instantly provide you\n",
      "                    with free quotes from highly rated insurance companies. </b></font></div>\n",
      "                </td>\n",
      "              </tr>\n",
      "            </table>\n",
      "            <table width=\"100%\" border=\"0\" cellspacing=\"0\" cellpadding=\"0\">\n",
      "              <tr align=\"left\" valign=\"top\">\n",
      "                <td height=\"106\">\n",
      "                  <table width=\"100%\" border=\"0\" cellspacing=\"0\" cellpadding=\"0\">\n",
      "                    <tr align=\"center\" valign=\"top\">\n",
      "                      <td height=\"2\"><font face=\"Tahoma, Verdana, Arial\" size=\"3\" color=\"#FFFFFF\"><b>Save\n",
      "                        up to</b></font></td>\n",
      "                    </tr>\n",
      "                    <tr align=\"center\" valign=\"top\">\n",
      "                      <td height=\"36\"><a href=\"http://theadmanager.com/server/c.asp?ad_key=YUESBHWAKMLK&ext=1\" target=\"_blank\"><img src=\"http://www.reliaquote.com/banner/bannerads/images/70percent6.gif\" width=\"131\" height=\"57\" border=\"0\"></a></td>\n",
      "                    </tr>\n",
      "                    <tr align=\"center\" valign=\"top\">\n",
      "                      <td height=\"8\"><font face=\"Tahoma, Verdana, Arial\" size=\"3\" color=\"#FFFFFF\"><b>on\n",
      "                        Life Insurance</b></font></td>\n",
      "                    </tr>\n",
      "                  </table>\n",
      "                </td>\n",
      "              </tr>\n",
      "              <tr align=\"center\" valign=\"middle\">\n",
      "                <td height=\"67\"><font color=\"#FFCC33\" size=\"3\" face=\"Tahoma, Verdana, Arial\"><b><font color=\"#FFCC99\" size=\"2\"><a href=\"http://theadmanager.com/server/c.asp?ad_key=YUESBHWAKMLK&ext=1\" target=\"_blank\">\n",
      "                  <font color=\"#FFFFFF\">Compare quotes today</font></a><font color=\"#FFFFFF\">.</font></font><font face=\"Tahoma, Verdana, Arial\" size=\"2\" color=\"#0000FF\">\n",
      "                  </font><font face=\"Tahoma, Verdana, Arial\" size=\"2\" color=\"#FFCC00\"><br>\n",
      "                  There is nothing more <br>\n",
      "                  important than protecting <br>\n",
      "                  their future.<br>\n",
      "                  </font></b></font></td>\n",
      "              </tr>\n",
      "            </table>\n",
      "          </td>\n",
      "        </tr>\n",
      "      </table>\n",
      "      <div align=\"center\"><font color=\"#FFFFFF\" size=\"1\">Copyright 2001 ReliaQuote,\n",
      "        Inc.<br>\n",
      "        All rights reserved.</font></div>\n",
      "    </td>\n",
      "  </tr>\n",
      "</table>\n",
      "<img src=\"http://admanmail.com/server/t.asp?ad_key=YUESBHWAKMLK\" width=\"1\" height=\"1\" hspace=\"0\" vspace=\"0\" border=\"0\" alt=\"T\">\n",
      "<hr size=\"1\" noshade>\n",
      "<font face=\"Arial\" size=\"1\" color=\"#000000\">\n",
      "You are receiving this mailing because you are a\n",
      "member of SendGreatOffers.com and subscribed as:JM@NETNOTEINC.COM\n",
      "To unsubscribe <a href=\"http://admanmail.com/subscription.asp?em=JM@NETNOTEINC.COM&l=SGO\">\n",
      "<font face=\"arial\" size=\"1\" color=\"#000000\">Click Here</a>\n",
      "(http://admanmail.com/subscription.asp?em=JM@NETNOTEINC.COM&l=SGO)\n",
      "or reply to this email with REMOVE in the subject line - you must\n",
      "also include the body of this message to be unsubscribed. Any correspondence about\n",
      "the products/services should be directed to\n",
      "the company in the ad.\n",
      "%EM%JM@NETNOTEINC.COM%/EM%\n",
      "<BR></FONT> </body> </html>\n"
     ]
    }
   ],
   "source": [
    "print(spam_emails[7].get_content().strip())"
   ]
  },
  {
   "cell_type": "code",
   "execution_count": 125,
   "id": "2d862145",
   "metadata": {},
   "outputs": [],
   "source": [
    "# let's examine various types of structures we have\n",
    "\n",
    "def get_email_structure(email):\n",
    "    if isinstance(email, str):\n",
    "        return email\n",
    "    payload = email.get_payload()\n",
    "    if isinstance(payload, list):\n",
    "        return \"multipart({})\".format(\", \".join([\n",
    "            get_email_structure(sub_email)\n",
    "            for sub_email in payload\n",
    "        ]))\n",
    "    else:\n",
    "        return email.get_content_type()"
   ]
  },
  {
   "cell_type": "code",
   "execution_count": 126,
   "id": "c5393770",
   "metadata": {},
   "outputs": [],
   "source": [
    "from collections import Counter\n",
    "\n",
    "def structures_counter(emails):\n",
    "    structures = Counter()\n",
    "    for email in emails:\n",
    "        structure = get_email_structure(email)\n",
    "        structures[structure] += 1\n",
    "    return structures"
   ]
  },
  {
   "cell_type": "code",
   "execution_count": 127,
   "id": "bc0d3b3c",
   "metadata": {},
   "outputs": [
    {
     "data": {
      "text/plain": [
       "[('text/plain', 2408),\n",
       " ('multipart(text/plain, application/pgp-signature)', 66),\n",
       " ('multipart(text/plain, text/html)', 8),\n",
       " ('multipart(text/plain, text/plain)', 4),\n",
       " ('multipart(text/plain)', 3),\n",
       " ('multipart(text/plain, application/octet-stream)', 2),\n",
       " ('multipart(text/plain, text/enriched)', 1),\n",
       " ('multipart(text/plain, application/ms-tnef, text/plain)', 1),\n",
       " ('multipart(multipart(text/plain, text/plain, text/plain), application/pgp-signature)',\n",
       "  1),\n",
       " ('multipart(text/plain, video/mng)', 1),\n",
       " ('multipart(text/plain, multipart(text/plain))', 1),\n",
       " ('multipart(text/plain, application/x-pkcs7-signature)', 1),\n",
       " ('multipart(text/plain, multipart(text/plain, text/plain), text/rfc822-headers)',\n",
       "  1),\n",
       " ('multipart(text/plain, multipart(text/plain, text/plain), multipart(multipart(text/plain, application/x-pkcs7-signature)))',\n",
       "  1),\n",
       " ('multipart(text/plain, application/x-java-applet)', 1)]"
      ]
     },
     "execution_count": 127,
     "metadata": {},
     "output_type": "execute_result"
    }
   ],
   "source": [
    "structures_counter(ham_emails).most_common()"
   ]
  },
  {
   "cell_type": "code",
   "execution_count": 128,
   "id": "7dc435fb",
   "metadata": {},
   "outputs": [
    {
     "data": {
      "text/plain": [
       "[('text/plain', 218),\n",
       " ('text/html', 183),\n",
       " ('multipart(text/plain, text/html)', 45),\n",
       " ('multipart(text/html)', 20),\n",
       " ('multipart(text/plain)', 19),\n",
       " ('multipart(multipart(text/html))', 5),\n",
       " ('multipart(text/plain, image/jpeg)', 3),\n",
       " ('multipart(text/html, application/octet-stream)', 2),\n",
       " ('multipart(text/plain, application/octet-stream)', 1),\n",
       " ('multipart(text/html, text/plain)', 1),\n",
       " ('multipart(multipart(text/html), application/octet-stream, image/jpeg)', 1),\n",
       " ('multipart(multipart(text/plain, text/html), image/gif)', 1),\n",
       " ('multipart/alternative', 1)]"
      ]
     },
     "execution_count": 128,
     "metadata": {},
     "output_type": "execute_result"
    }
   ],
   "source": [
    "structures_counter(spam_emails).most_common()"
   ]
  },
  {
   "cell_type": "code",
   "execution_count": 129,
   "id": "f77fb2d5",
   "metadata": {},
   "outputs": [
    {
     "name": "stdout",
     "output_type": "stream",
     "text": [
      "Return-Path : <12a1mailbot1@web.de>\n",
      "Delivered-To : zzzz@localhost.spamassassin.taint.org\n",
      "Received : from localhost (localhost [127.0.0.1])\tby phobos.labs.spamassassin.taint.org (Postfix) with ESMTP id 136B943C32\tfor <zzzz@localhost>; Thu, 22 Aug 2002 08:17:21 -0400 (EDT)\n",
      "Received : from mail.webnote.net [193.120.211.219]\tby localhost with POP3 (fetchmail-5.9.0)\tfor zzzz@localhost (single-drop); Thu, 22 Aug 2002 13:17:21 +0100 (IST)\n",
      "Received : from dd_it7 ([210.97.77.167])\tby webnote.net (8.9.3/8.9.3) with ESMTP id NAA04623\tfor <zzzz@spamassassin.taint.org>; Thu, 22 Aug 2002 13:09:41 +0100\n",
      "From : 12a1mailbot1@web.de\n",
      "Received : from r-smtp.korea.com - 203.122.2.197 by dd_it7  with Microsoft SMTPSVC(5.5.1775.675.6);\t Sat, 24 Aug 2002 09:42:10 +0900\n",
      "To : dcek1a1@netsgo.com\n",
      "Subject : Life Insurance - Why Pay More?\n",
      "Date : Wed, 21 Aug 2002 20:31:57 -1600\n",
      "MIME-Version : 1.0\n",
      "Message-ID : <0103c1042001882DD_IT7@dd_it7>\n",
      "Content-Type : text/html; charset=\"iso-8859-1\"\n",
      "Content-Transfer-Encoding : quoted-printable\n"
     ]
    }
   ],
   "source": [
    "for header, value in spam_emails[0].items():\n",
    "    print(header,\":\",value)"
   ]
  },
  {
   "cell_type": "code",
   "execution_count": 130,
   "id": "340e8258",
   "metadata": {},
   "outputs": [
    {
     "data": {
      "text/plain": [
       "'Life Insurance - Why Pay More?'"
      ]
     },
     "execution_count": 130,
     "metadata": {},
     "output_type": "execute_result"
    }
   ],
   "source": [
    "# let's focus on the \"subject\" header\n",
    "\n",
    "spam_emails[0][\"Subject\"]"
   ]
  },
  {
   "cell_type": "code",
   "execution_count": 131,
   "id": "aa1c7a11",
   "metadata": {},
   "outputs": [],
   "source": [
    "# split the dataset into training and testing\n",
    "\n",
    "import numpy as np\n",
    "from sklearn.model_selection import train_test_split\n",
    "\n",
    "X = np.array(ham_emails + spam_emails, dtype=object)\n",
    "y = np.array([0] * len(ham_emails) + [1] * len(spam_emails))\n",
    "\n",
    "X_train, X_test, y_train, y_test = train_test_split(X, y, test_size=0.2, random_state=42)"
   ]
  },
  {
   "cell_type": "code",
   "execution_count": 132,
   "id": "40d8cfd2",
   "metadata": {},
   "outputs": [],
   "source": [
    "# convert html to plain text\n",
    "\n",
    "import re\n",
    "from html import unescape\n",
    "\n",
    "def html_to_plain_text(html):\n",
    "    text = re.sub('<head.*?>.*?</head>', '', html, flags=re.M | re.S | re.I)\n",
    "    text = re.sub('<a\\s.*?>', ' HYPERLINK ', text, flags=re.M | re.S | re.I)\n",
    "    text = re.sub('<.*?>', '', text, flags=re.M | re.S)\n",
    "    text = re.sub(r'(\\s*\\n)+', '\\n', text, flags=re.M | re.S)\n",
    "    return unescape(text)"
   ]
  },
  {
   "cell_type": "code",
   "execution_count": 134,
   "id": "4d749cfd",
   "metadata": {},
   "outputs": [
    {
     "name": "stdout",
     "output_type": "stream",
     "text": [
      "<HTML><HEAD><TITLE></TITLE><META http-equiv=\"Content-Type\" content=\"text/html; charset=windows-1252\"><STYLE>A:link {TEX-DECORATION: none}A:active {TEXT-DECORATION: none}A:visited {TEXT-DECORATION: none}A:hover {COLOR: #0033ff; TEXT-DECORATION: underline}</STYLE><META content=\"MSHTML 6.00.2713.1100\" name=\"GENERATOR\"></HEAD>\n",
      "<BODY text=\"#000000\" vLink=\"#0033ff\" link=\"#0033ff\" bgColor=\"#CCCC99\"><TABLE borderColor=\"#660000\" cellSpacing=\"0\" cellPadding=\"0\" border=\"0\" width=\"100%\"><TR><TD bgColor=\"#CCCC99\" valign=\"top\" colspan=\"2\" height=\"27\">\n",
      "<font size=\"6\" face=\"Arial, Helvetica, sans-serif\" color=\"#660000\">\n",
      "<b>OTC</b></font></TD></TR><TR><TD height=\"2\" bgcolor=\"#6a694f\">\n",
      "<font size=\"5\" face=\"Times New Roman, Times, serif\" color=\"#FFFFFF\">\n",
      "<b>&nbsp;Newsletter</b></font></TD><TD height=\"2\" bgcolor=\"#6a694f\"><div align=\"right\"><font color=\"#FFFFFF\">\n",
      "<b>Discover Tomorrow's Winners&nbsp;</b></font></div></TD></TR><TR><TD height=\"25\" colspan=\"2\" bgcolor=\"#CCCC99\"><table width=\"100%\" border=\"0\"  ...\n"
     ]
    }
   ],
   "source": [
    "html_spam_emails = [email for email in X_train[y_train==1]\n",
    "                    if get_email_structure(email) == \"text/html\"]\n",
    "sample_html_spam = html_spam_emails[7]\n",
    "print(sample_html_spam.get_content().strip()[:1000], \"...\")"
   ]
  },
  {
   "cell_type": "code",
   "execution_count": 135,
   "id": "c1ba70d7",
   "metadata": {},
   "outputs": [
    {
     "name": "stdout",
     "output_type": "stream",
     "text": [
      "\n",
      "OTC\n",
      " Newsletter\n",
      "Discover Tomorrow's Winners \n",
      "For Immediate Release\n",
      "Cal-Bay (Stock Symbol: CBYI)\n",
      "Watch for analyst \"Strong Buy Recommendations\" and several advisory newsletters picking CBYI.  CBYI has filed to be traded on the OTCBB, share prices historically INCREASE when companies get listed on this larger trading exchange. CBYI is trading around 25 cents and should skyrocket to $2.66 - $3.25 a share in the near future.\n",
      "Put CBYI on your watch list, acquire a position TODAY.\n",
      "REASONS TO INVEST IN CBYI\n",
      "A profitable company and is on track to beat ALL earnings estimates!\n",
      "One of the FASTEST growing distributors in environmental & safety equipment instruments.\n",
      "Excellent management team, several EXCLUSIVE contracts.  IMPRESSIVE client list including the U.S. Air Force, Anheuser-Busch, Chevron Refining and Mitsubishi Heavy Industries, GE-Energy & Environmental Research.\n",
      "RAPIDLY GROWING INDUSTRY\n",
      "Industry revenues exceed $900 million, estimates indicate that there could be as much as $25 billi ...\n"
     ]
    }
   ],
   "source": [
    "print(html_to_plain_text(sample_html_spam.get_content())[:1000], \"...\")"
   ]
  },
  {
   "cell_type": "code",
   "execution_count": 136,
   "id": "5771b3bd",
   "metadata": {},
   "outputs": [],
   "source": [
    "def email_to_text(email):\n",
    "    html = None\n",
    "    for part in email.walk():\n",
    "        ctype = part.get_content_type()\n",
    "        if not ctype in (\"text/plain\", \"text/html\"):\n",
    "            continue\n",
    "        try:\n",
    "            content = part.get_content()\n",
    "        except: # in case of encoding issues\n",
    "            content = str(part.get_payload())\n",
    "        if ctype == \"text/plain\":\n",
    "            return content\n",
    "        else:\n",
    "            html = content\n",
    "    if html:\n",
    "        return html_to_plain_text(html)"
   ]
  },
  {
   "cell_type": "code",
   "execution_count": 137,
   "id": "4c69abb3",
   "metadata": {},
   "outputs": [
    {
     "name": "stdout",
     "output_type": "stream",
     "text": [
      "\n",
      "OTC\n",
      " Newsletter\n",
      "Discover Tomorrow's Winners \n",
      "For Immediate Release\n",
      "Cal-Bay (Stock Symbol: CBYI)\n",
      "Wat ...\n"
     ]
    }
   ],
   "source": [
    "print(email_to_text(sample_html_spam)[:100], \"...\")"
   ]
  },
  {
   "cell_type": "code",
   "execution_count": 138,
   "id": "35ead976",
   "metadata": {},
   "outputs": [
    {
     "name": "stdout",
     "output_type": "stream",
     "text": [
      "Computations => comput\n",
      "Computation => comput\n",
      "Computing => comput\n",
      "Computed => comput\n",
      "Compute => comput\n",
      "Compulsive => compuls\n"
     ]
    }
   ],
   "source": [
    "try:\n",
    "    import nltk\n",
    "\n",
    "    stemmer = nltk.PorterStemmer()\n",
    "    for word in (\"Computations\", \"Computation\", \"Computing\", \"Computed\", \"Compute\", \"Compulsive\"):\n",
    "        print(word, \"=>\", stemmer.stem(word))\n",
    "except ImportError:\n",
    "    print(\"Error: stemming requires the NLTK module.\")\n",
    "    stemmer = None"
   ]
  },
  {
   "cell_type": "code",
   "execution_count": 144,
   "id": "edf291a2",
   "metadata": {},
   "outputs": [],
   "source": [
    "# if running this notebook on Colab or Kaggle, we just pip install urlextract\n",
    "import sys\n",
    "IS_COLAB = \"google.colab\" in sys.modules\n",
    "IS_KAGGLE = \"kaggle_secrets\" in sys.modules\n",
    "\n",
    "if IS_COLAB or IS_KAGGLE:\n",
    "    %pip install -q -U urlextract"
   ]
  },
  {
   "cell_type": "code",
   "execution_count": 145,
   "id": "1d885d31",
   "metadata": {},
   "outputs": [
    {
     "name": "stdout",
     "output_type": "stream",
     "text": [
      "Error: replacing URLs requires the urlextract module.\n"
     ]
    }
   ],
   "source": [
    "try:\n",
    "    import urlextract # may require an Internet connection to download root domain names\n",
    "    \n",
    "    url_extractor = urlextract.URLExtract()\n",
    "    print(url_extractor.find_urls(\"Will it detect github.com and https://youtu.be/7Pq-S557XQU?t=3m32s\"))\n",
    "except ImportError:\n",
    "    print(\"Error: replacing URLs requires the urlextract module.\")\n",
    "    url_extractor = None"
   ]
  },
  {
   "cell_type": "code",
   "execution_count": 146,
   "id": "777fd5b5",
   "metadata": {},
   "outputs": [],
   "source": [
    "from sklearn.base import BaseEstimator, TransformerMixin\n",
    "\n",
    "class EmailToWordCounterTransformer(BaseEstimator, TransformerMixin):\n",
    "    def __init__(self, strip_headers=True, lower_case=True, remove_punctuation=True,\n",
    "                 replace_urls=True, replace_numbers=True, stemming=True):\n",
    "        self.strip_headers = strip_headers\n",
    "        self.lower_case = lower_case\n",
    "        self.remove_punctuation = remove_punctuation\n",
    "        self.replace_urls = replace_urls\n",
    "        self.replace_numbers = replace_numbers\n",
    "        self.stemming = stemming\n",
    "    def fit(self, X, y=None):\n",
    "        return self\n",
    "    def transform(self, X, y=None):\n",
    "        X_transformed = []\n",
    "        for email in X:\n",
    "            text = email_to_text(email) or \"\"\n",
    "            if self.lower_case:\n",
    "                text = text.lower()\n",
    "            if self.replace_urls and url_extractor is not None:\n",
    "                urls = list(set(url_extractor.find_urls(text)))\n",
    "                urls.sort(key=lambda url: len(url), reverse=True)\n",
    "                for url in urls:\n",
    "                    text = text.replace(url, \" URL \")\n",
    "            if self.replace_numbers:\n",
    "                text = re.sub(r'\\d+(?:\\.\\d*)?(?:[eE][+-]?\\d+)?', 'NUMBER', text)\n",
    "            if self.remove_punctuation:\n",
    "                text = re.sub(r'\\W+', ' ', text, flags=re.M)\n",
    "            word_counts = Counter(text.split())\n",
    "            if self.stemming and stemmer is not None:\n",
    "                stemmed_word_counts = Counter()\n",
    "                for word, count in word_counts.items():\n",
    "                    stemmed_word = stemmer.stem(word)\n",
    "                    stemmed_word_counts[stemmed_word] += count\n",
    "                word_counts = stemmed_word_counts\n",
    "            X_transformed.append(word_counts)\n",
    "        return np.array(X_transformed)"
   ]
  },
  {
   "cell_type": "code",
   "execution_count": 147,
   "id": "a8f12a24",
   "metadata": {},
   "outputs": [
    {
     "data": {
      "text/plain": [
       "array([Counter({'chuck': 1, 'murcko': 1, 'wrote': 1, 'stuff': 1, 'yawn': 1, 'r': 1}),\n",
       "       Counter({'the': 11, 'of': 9, 'and': 8, 'all': 3, 'christian': 3, 'to': 3, 'by': 3, 'jefferson': 2, 'i': 2, 'have': 2, 'superstit': 2, 'one': 2, 'on': 2, 'been': 2, 'ha': 2, 'half': 2, 'rogueri': 2, 'teach': 2, 'jesu': 2, 'some': 1, 'interest': 1, 'quot': 1, 'http': 1, 'www': 1, 'postfun': 1, 'com': 1, 'pfp': 1, 'worboi': 1, 'html': 1, 'thoma': 1, 'examin': 1, 'known': 1, 'word': 1, 'do': 1, 'not': 1, 'find': 1, 'in': 1, 'our': 1, 'particular': 1, 'redeem': 1, 'featur': 1, 'they': 1, 'are': 1, 'alik': 1, 'found': 1, 'fabl': 1, 'mytholog': 1, 'million': 1, 'innoc': 1, 'men': 1, 'women': 1, 'children': 1, 'sinc': 1, 'introduct': 1, 'burnt': 1, 'tortur': 1, 'fine': 1, 'imprison': 1, 'what': 1, 'effect': 1, 'thi': 1, 'coercion': 1, 'make': 1, 'world': 1, 'fool': 1, 'other': 1, 'hypocrit': 1, 'support': 1, 'error': 1, 'over': 1, 'earth': 1, 'six': 1, 'histor': 1, 'american': 1, 'john': 1, 'e': 1, 'remsburg': 1, 'letter': 1, 'william': 1, 'short': 1, 'again': 1, 'becom': 1, 'most': 1, 'pervert': 1, 'system': 1, 'that': 1, 'ever': 1, 'shone': 1, 'man': 1, 'absurd': 1, 'untruth': 1, 'were': 1, 'perpetr': 1, 'upon': 1, 'a': 1, 'larg': 1, 'band': 1, 'dupe': 1, 'import': 1, 'led': 1, 'paul': 1, 'first': 1, 'great': 1, 'corrupt': 1}),\n",
       "       Counter({'number': 5, 'http': 4, 'yahoo': 4, 's': 3, 'group': 3, 'com': 3, 'to': 3, 'in': 2, 'forteana': 2, 'martin': 2, 'an': 2, 'and': 2, 'memri': 2, 'we': 2, 'is': 2, 'unsubscrib': 2, 'y': 1, 'adamson': 1, 'wrote': 1, 'for': 1, 'altern': 1, 'rather': 1, 'more': 1, 'factual': 1, 'base': 1, 'rundown': 1, 'on': 1, 'hamza': 1, 'career': 1, 'includ': 1, 'hi': 1, 'belief': 1, 'that': 1, 'all': 1, 'non': 1, 'muslim': 1, 'yemen': 1, 'should': 1, 'be': 1, 'murder': 1, 'outright': 1, 'org': 1, 'bin': 1, 'articl': 1, 'cgi': 1, 'page': 1, 'archiv': 1, 'area': 1, 'ia': 1, 'id': 1, 'ianumb': 1, 'know': 1, 'how': 1, 'unbias': 1, 'don': 1, 't': 1, 'www': 1, 'guardian': 1, 'co': 1, 'uk': 1, 'elsewher': 1, 'journalist': 1, 'stori': 1, 'html': 1, 'rob': 1, 'sponsor': 1, 'dvd': 1, 'free': 1, 'p': 1, 'join': 1, 'now': 1, 'us': 1, 'click': 1, 'ptnumberybb': 1, 'nxieaa': 1, 'mvfiaa': 1, 'numbergsolb': 1, 'tm': 1, 'from': 1, 'thi': 1, 'send': 1, 'email': 1, 'egroup': 1, 'your': 1, 'use': 1, 'of': 1, 'subject': 1, 'doc': 1, 'info': 1, 'term': 1})],\n",
       "      dtype=object)"
      ]
     },
     "execution_count": 147,
     "metadata": {},
     "output_type": "execute_result"
    }
   ],
   "source": [
    "X_few = X_train[:3]\n",
    "X_few_wordcounts = EmailToWordCounterTransformer().fit_transform(X_few)\n",
    "X_few_wordcounts"
   ]
  },
  {
   "cell_type": "code",
   "execution_count": 148,
   "id": "c52c8ac1",
   "metadata": {},
   "outputs": [],
   "source": [
    "from scipy.sparse import csr_matrix\n",
    "\n",
    "class WordCounterToVectorTransformer(BaseEstimator, TransformerMixin):\n",
    "    def __init__(self, vocabulary_size=1000):\n",
    "        self.vocabulary_size = vocabulary_size\n",
    "    def fit(self, X, y=None):\n",
    "        total_count = Counter()\n",
    "        for word_count in X:\n",
    "            for word, count in word_count.items():\n",
    "                total_count[word] += min(count, 10)\n",
    "        most_common = total_count.most_common()[:self.vocabulary_size]\n",
    "        self.vocabulary_ = {word: index + 1 for index, (word, count) in enumerate(most_common)}\n",
    "        return self\n",
    "    def transform(self, X, y=None):\n",
    "        rows = []\n",
    "        cols = []\n",
    "        data = []\n",
    "        for row, word_count in enumerate(X):\n",
    "            for word, count in word_count.items():\n",
    "                rows.append(row)\n",
    "                cols.append(self.vocabulary_.get(word, 0))\n",
    "                data.append(count)\n",
    "        return csr_matrix((data, (rows, cols)), shape=(len(X), self.vocabulary_size + 1))"
   ]
  },
  {
   "cell_type": "code",
   "execution_count": 149,
   "id": "72aff923",
   "metadata": {},
   "outputs": [
    {
     "data": {
      "text/plain": [
       "<3x11 sparse matrix of type '<class 'numpy.intc'>'\n",
       "\twith 20 stored elements in Compressed Sparse Row format>"
      ]
     },
     "execution_count": 149,
     "metadata": {},
     "output_type": "execute_result"
    }
   ],
   "source": [
    "vocab_transformer = WordCounterToVectorTransformer(vocabulary_size=10)\n",
    "X_few_vectors = vocab_transformer.fit_transform(X_few_wordcounts)\n",
    "X_few_vectors"
   ]
  },
  {
   "cell_type": "code",
   "execution_count": 150,
   "id": "4667f222",
   "metadata": {},
   "outputs": [
    {
     "data": {
      "text/plain": [
       "array([[  6,   0,   0,   0,   0,   0,   0,   0,   0,   0,   0],\n",
       "       [112,  11,   9,   8,   3,   1,   0,   1,   3,   0,   1],\n",
       "       [ 92,   0,   1,   2,   3,   4,   5,   3,   1,   4,   2]],\n",
       "      dtype=int32)"
      ]
     },
     "execution_count": 150,
     "metadata": {},
     "output_type": "execute_result"
    }
   ],
   "source": [
    "X_few_vectors.toarray()"
   ]
  },
  {
   "cell_type": "code",
   "execution_count": 151,
   "id": "891c011d",
   "metadata": {},
   "outputs": [
    {
     "data": {
      "text/plain": [
       "{'the': 1,\n",
       " 'of': 2,\n",
       " 'and': 3,\n",
       " 'to': 4,\n",
       " 'http': 5,\n",
       " 'number': 6,\n",
       " 'com': 7,\n",
       " 'all': 8,\n",
       " 'yahoo': 9,\n",
       " 'in': 10}"
      ]
     },
     "execution_count": 151,
     "metadata": {},
     "output_type": "execute_result"
    }
   ],
   "source": [
    "vocab_transformer.vocabulary_"
   ]
  },
  {
   "cell_type": "code",
   "execution_count": 152,
   "id": "18fd442a",
   "metadata": {},
   "outputs": [],
   "source": [
    "# train our first spam classifier\n",
    "\n",
    "from sklearn.pipeline import Pipeline\n",
    "\n",
    "preprocess_pipeline = Pipeline([\n",
    "    (\"email_to_wordcount\", EmailToWordCounterTransformer()),\n",
    "    (\"wordcount_to_vector\", WordCounterToVectorTransformer()),\n",
    "])\n",
    "\n",
    "X_train_transformed = preprocess_pipeline.fit_transform(X_train)"
   ]
  },
  {
   "cell_type": "code",
   "execution_count": 153,
   "id": "d8584ed5",
   "metadata": {},
   "outputs": [
    {
     "name": "stderr",
     "output_type": "stream",
     "text": [
      "[Parallel(n_jobs=1)]: Using backend SequentialBackend with 1 concurrent workers.\n"
     ]
    },
    {
     "name": "stdout",
     "output_type": "stream",
     "text": [
      "[CV] END ................................ score: (test=0.983) total time=   0.2s\n"
     ]
    },
    {
     "name": "stderr",
     "output_type": "stream",
     "text": [
      "[Parallel(n_jobs=1)]: Done   1 out of   1 | elapsed:    0.2s remaining:    0.0s\n"
     ]
    },
    {
     "name": "stdout",
     "output_type": "stream",
     "text": [
      "[CV] END ................................ score: (test=0.985) total time=   0.2s\n"
     ]
    },
    {
     "name": "stderr",
     "output_type": "stream",
     "text": [
      "[Parallel(n_jobs=1)]: Done   2 out of   2 | elapsed:    0.4s remaining:    0.0s\n"
     ]
    },
    {
     "name": "stdout",
     "output_type": "stream",
     "text": [
      "[CV] END ................................ score: (test=0.993) total time=   0.3s\n"
     ]
    },
    {
     "name": "stderr",
     "output_type": "stream",
     "text": [
      "[Parallel(n_jobs=1)]: Done   3 out of   3 | elapsed:    0.9s finished\n"
     ]
    },
    {
     "data": {
      "text/plain": [
       "0.9866666666666667"
      ]
     },
     "execution_count": 153,
     "metadata": {},
     "output_type": "execute_result"
    }
   ],
   "source": [
    "from sklearn.linear_model import LogisticRegression\n",
    "from sklearn.model_selection import cross_val_score\n",
    "\n",
    "log_clf = LogisticRegression(solver=\"lbfgs\", max_iter=1000, random_state=42)\n",
    "score = cross_val_score(log_clf, X_train_transformed, y_train, cv=3, verbose=3)\n",
    "score.mean()"
   ]
  },
  {
   "cell_type": "code",
   "execution_count": 154,
   "id": "196bf14c",
   "metadata": {},
   "outputs": [
    {
     "name": "stdout",
     "output_type": "stream",
     "text": [
      "Precision: 95.88%\n",
      "Recall: 97.89%\n"
     ]
    }
   ],
   "source": [
    "from sklearn.metrics import precision_score, recall_score\n",
    "\n",
    "X_test_transformed = preprocess_pipeline.transform(X_test)\n",
    "\n",
    "log_clf = LogisticRegression(solver=\"lbfgs\", max_iter=1000, random_state=42)\n",
    "log_clf.fit(X_train_transformed, y_train)\n",
    "\n",
    "y_pred = log_clf.predict(X_test_transformed)\n",
    "\n",
    "print(\"Precision: {:.2f}%\".format(100 * precision_score(y_test, y_pred)))\n",
    "print(\"Recall: {:.2f}%\".format(100 * recall_score(y_test, y_pred)))"
   ]
  },
  {
   "cell_type": "code",
   "execution_count": null,
   "id": "345b8b27",
   "metadata": {},
   "outputs": [],
   "source": []
  }
 ],
 "metadata": {
  "kernelspec": {
   "display_name": "Python 3",
   "language": "python",
   "name": "python3"
  },
  "language_info": {
   "codemirror_mode": {
    "name": "ipython",
    "version": 3
   },
   "file_extension": ".py",
   "mimetype": "text/x-python",
   "name": "python",
   "nbconvert_exporter": "python",
   "pygments_lexer": "ipython3",
   "version": "3.8.8"
  }
 },
 "nbformat": 4,
 "nbformat_minor": 5
}
